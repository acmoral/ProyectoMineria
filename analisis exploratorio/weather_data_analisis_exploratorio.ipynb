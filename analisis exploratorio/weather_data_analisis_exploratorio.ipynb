{
  "cells": [
    {
      "cell_type": "markdown",
      "metadata": {
        "colab_type": "text",
        "id": "view-in-github"
      },
      "source": [
        "<a href=\"https://colab.research.google.com/github/acmoral/ProyectoMineria/blob/master/weather_data_analisis_exploratorio.ipynb\" target=\"_parent\"><img src=\"https://colab.research.google.com/assets/colab-badge.svg\" alt=\"Open In Colab\"/></a>"
      ]
    },
    {
      "cell_type": "code",
      "execution_count": 108,
      "metadata": {
        "colab": {
          "base_uri": "https://localhost:8080/"
        },
        "id": "e5sDqnc8Tg0Y",
        "outputId": "c666e0e7-8327-4137-c574-bcd165aad7a2"
      },
      "outputs": [],
      "source": [
        "import pandas as pd\n",
        "import matplotlib.pyplot as plt\n",
        "import numpy as np\n",
        "from scipy.stats import trim_mean\n",
        "from numpy import mean, absolute\n",
        "\n",
        "# from google.colab import drive\n",
        "# drive.mount('/content/drive')"
      ]
    },
    {
      "cell_type": "code",
      "execution_count": 2,
      "metadata": {
        "colab": {
          "base_uri": "https://localhost:8080/"
        },
        "id": "rsR1WhKhU36S",
        "outputId": "59174483-4649-40a9-cf9b-acb4f1d6ecff"
      },
      "outputs": [],
      "source": [
        "#Our dataset in Google drive\n",
        "%cd drive/Shareddrives/Minería\\ de\\ datos\\ 2023/"
      ]
    },
    {
      "cell_type": "code",
      "execution_count": 69,
      "metadata": {
        "id": "00MRHVJVU0zf"
      },
      "outputs": [],
      "source": [
        "data = pd.read_csv('../data/weatherAUS.csv')"
      ]
    },
    {
      "cell_type": "markdown",
      "metadata": {},
      "source": [
        "Global varaiables"
      ]
    },
    {
      "cell_type": "code",
      "execution_count": 40,
      "metadata": {},
      "outputs": [],
      "source": [
        "theme = '#16A085'"
      ]
    },
    {
      "cell_type": "markdown",
      "metadata": {
        "id": "ZLBUAuFMTg0b"
      },
      "source": [
        "La idea seria en cada sección añadir una descripción de manera que se analisen los datos que se obtengan."
      ]
    },
    {
      "cell_type": "markdown",
      "metadata": {
        "id": "5qbNRk8zTg0c"
      },
      "source": [
        "# Estadistica uni variada"
      ]
    },
    {
      "cell_type": "markdown",
      "metadata": {
        "id": "ZfEmDa0BTg0d"
      },
      "source": [
        "## 1. visualizar el dataset\n"
      ]
    },
    {
      "cell_type": "code",
      "execution_count": 128,
      "metadata": {},
      "outputs": [
        {
          "name": "stdout",
          "output_type": "stream",
          "text": [
            "Index(['Date', 'Location', 'MinTemp', 'MaxTemp', 'Rainfall', 'Evaporation',\n",
            "       'Sunshine', 'WindGustDir', 'WindGustSpeed', 'WindDir9am', 'WindDir3pm',\n",
            "       'WindSpeed9am', 'WindSpeed3pm', 'Humidity9am', 'Humidity3pm',\n",
            "       'Pressure9am', 'Pressure3pm', 'Cloud9am', 'Cloud3pm', 'Temp9am',\n",
            "       'Temp3pm', 'RainToday', 'RainTomorrow'],\n",
            "      dtype='object')\n"
          ]
        }
      ],
      "source": [
        "names = data.keys()\n",
        "print(names)\n",
        "\n",
        "numericNames = ['MinTemp', 'MaxTemp', 'Rainfall', 'Evaporation', 'Sunshine', 'WindGustSpeed', 'WindSpeed9am', 'WindSpeed3pm',\n",
        "                'Humidity9am', 'Humidity3pm', 'Pressure9am', 'Pressure3pm', 'Cloud9am', 'Cloud3pm', 'Temp9am', 'Temp3pm']"
      ]
    },
    {
      "cell_type": "code",
      "execution_count": 5,
      "metadata": {},
      "outputs": [
        {
          "data": {
            "text/plain": [
              "(145460, 23)"
            ]
          },
          "execution_count": 5,
          "metadata": {},
          "output_type": "execute_result"
        }
      ],
      "source": [
        "data.shape"
      ]
    },
    {
      "cell_type": "code",
      "execution_count": 99,
      "metadata": {
        "id": "GkqtaPVtTg0d"
      },
      "outputs": [
        {
          "data": {
            "text/html": [
              "<div>\n",
              "<style scoped>\n",
              "    .dataframe tbody tr th:only-of-type {\n",
              "        vertical-align: middle;\n",
              "    }\n",
              "\n",
              "    .dataframe tbody tr th {\n",
              "        vertical-align: top;\n",
              "    }\n",
              "\n",
              "    .dataframe thead th {\n",
              "        text-align: right;\n",
              "    }\n",
              "</style>\n",
              "<table border=\"1\" class=\"dataframe\">\n",
              "  <thead>\n",
              "    <tr style=\"text-align: right;\">\n",
              "      <th></th>\n",
              "      <th>Date</th>\n",
              "      <th>Location</th>\n",
              "      <th>MinTemp</th>\n",
              "      <th>MaxTemp</th>\n",
              "      <th>Rainfall</th>\n",
              "      <th>Evaporation</th>\n",
              "      <th>Sunshine</th>\n",
              "      <th>WindGustDir</th>\n",
              "      <th>WindGustSpeed</th>\n",
              "      <th>WindDir9am</th>\n",
              "      <th>...</th>\n",
              "      <th>Humidity9am</th>\n",
              "      <th>Humidity3pm</th>\n",
              "      <th>Pressure9am</th>\n",
              "      <th>Pressure3pm</th>\n",
              "      <th>Cloud9am</th>\n",
              "      <th>Cloud3pm</th>\n",
              "      <th>Temp9am</th>\n",
              "      <th>Temp3pm</th>\n",
              "      <th>RainToday</th>\n",
              "      <th>RainTomorrow</th>\n",
              "    </tr>\n",
              "  </thead>\n",
              "  <tbody>\n",
              "    <tr>\n",
              "      <th>0</th>\n",
              "      <td>2008-12-01</td>\n",
              "      <td>Albury</td>\n",
              "      <td>13.4</td>\n",
              "      <td>22.9</td>\n",
              "      <td>0.6</td>\n",
              "      <td>NaN</td>\n",
              "      <td>NaN</td>\n",
              "      <td>W</td>\n",
              "      <td>44.0</td>\n",
              "      <td>W</td>\n",
              "      <td>...</td>\n",
              "      <td>71.0</td>\n",
              "      <td>22.0</td>\n",
              "      <td>1007.7</td>\n",
              "      <td>1007.1</td>\n",
              "      <td>8.0</td>\n",
              "      <td>NaN</td>\n",
              "      <td>16.9</td>\n",
              "      <td>21.8</td>\n",
              "      <td>No</td>\n",
              "      <td>No</td>\n",
              "    </tr>\n",
              "    <tr>\n",
              "      <th>1</th>\n",
              "      <td>2008-12-02</td>\n",
              "      <td>Albury</td>\n",
              "      <td>7.4</td>\n",
              "      <td>25.1</td>\n",
              "      <td>0.0</td>\n",
              "      <td>NaN</td>\n",
              "      <td>NaN</td>\n",
              "      <td>WNW</td>\n",
              "      <td>44.0</td>\n",
              "      <td>NNW</td>\n",
              "      <td>...</td>\n",
              "      <td>44.0</td>\n",
              "      <td>25.0</td>\n",
              "      <td>1010.6</td>\n",
              "      <td>1007.8</td>\n",
              "      <td>NaN</td>\n",
              "      <td>NaN</td>\n",
              "      <td>17.2</td>\n",
              "      <td>24.3</td>\n",
              "      <td>No</td>\n",
              "      <td>No</td>\n",
              "    </tr>\n",
              "    <tr>\n",
              "      <th>2</th>\n",
              "      <td>2008-12-03</td>\n",
              "      <td>Albury</td>\n",
              "      <td>12.9</td>\n",
              "      <td>25.7</td>\n",
              "      <td>0.0</td>\n",
              "      <td>NaN</td>\n",
              "      <td>NaN</td>\n",
              "      <td>WSW</td>\n",
              "      <td>46.0</td>\n",
              "      <td>W</td>\n",
              "      <td>...</td>\n",
              "      <td>38.0</td>\n",
              "      <td>30.0</td>\n",
              "      <td>1007.6</td>\n",
              "      <td>1008.7</td>\n",
              "      <td>NaN</td>\n",
              "      <td>2.0</td>\n",
              "      <td>21.0</td>\n",
              "      <td>23.2</td>\n",
              "      <td>No</td>\n",
              "      <td>No</td>\n",
              "    </tr>\n",
              "    <tr>\n",
              "      <th>3</th>\n",
              "      <td>2008-12-04</td>\n",
              "      <td>Albury</td>\n",
              "      <td>9.2</td>\n",
              "      <td>28.0</td>\n",
              "      <td>0.0</td>\n",
              "      <td>NaN</td>\n",
              "      <td>NaN</td>\n",
              "      <td>NE</td>\n",
              "      <td>24.0</td>\n",
              "      <td>SE</td>\n",
              "      <td>...</td>\n",
              "      <td>45.0</td>\n",
              "      <td>16.0</td>\n",
              "      <td>1017.6</td>\n",
              "      <td>1012.8</td>\n",
              "      <td>NaN</td>\n",
              "      <td>NaN</td>\n",
              "      <td>18.1</td>\n",
              "      <td>26.5</td>\n",
              "      <td>No</td>\n",
              "      <td>No</td>\n",
              "    </tr>\n",
              "    <tr>\n",
              "      <th>4</th>\n",
              "      <td>2008-12-05</td>\n",
              "      <td>Albury</td>\n",
              "      <td>17.5</td>\n",
              "      <td>32.3</td>\n",
              "      <td>1.0</td>\n",
              "      <td>NaN</td>\n",
              "      <td>NaN</td>\n",
              "      <td>W</td>\n",
              "      <td>41.0</td>\n",
              "      <td>ENE</td>\n",
              "      <td>...</td>\n",
              "      <td>82.0</td>\n",
              "      <td>33.0</td>\n",
              "      <td>1010.8</td>\n",
              "      <td>1006.0</td>\n",
              "      <td>7.0</td>\n",
              "      <td>8.0</td>\n",
              "      <td>17.8</td>\n",
              "      <td>29.7</td>\n",
              "      <td>No</td>\n",
              "      <td>No</td>\n",
              "    </tr>\n",
              "  </tbody>\n",
              "</table>\n",
              "<p>5 rows × 23 columns</p>\n",
              "</div>"
            ],
            "text/plain": [
              "         Date Location  MinTemp  MaxTemp  Rainfall  Evaporation  Sunshine  \\\n",
              "0  2008-12-01   Albury     13.4     22.9       0.6          NaN       NaN   \n",
              "1  2008-12-02   Albury      7.4     25.1       0.0          NaN       NaN   \n",
              "2  2008-12-03   Albury     12.9     25.7       0.0          NaN       NaN   \n",
              "3  2008-12-04   Albury      9.2     28.0       0.0          NaN       NaN   \n",
              "4  2008-12-05   Albury     17.5     32.3       1.0          NaN       NaN   \n",
              "\n",
              "  WindGustDir  WindGustSpeed WindDir9am  ... Humidity9am  Humidity3pm  \\\n",
              "0           W           44.0          W  ...        71.0         22.0   \n",
              "1         WNW           44.0        NNW  ...        44.0         25.0   \n",
              "2         WSW           46.0          W  ...        38.0         30.0   \n",
              "3          NE           24.0         SE  ...        45.0         16.0   \n",
              "4           W           41.0        ENE  ...        82.0         33.0   \n",
              "\n",
              "   Pressure9am  Pressure3pm  Cloud9am  Cloud3pm  Temp9am  Temp3pm  RainToday  \\\n",
              "0       1007.7       1007.1       8.0       NaN     16.9     21.8         No   \n",
              "1       1010.6       1007.8       NaN       NaN     17.2     24.3         No   \n",
              "2       1007.6       1008.7       NaN       2.0     21.0     23.2         No   \n",
              "3       1017.6       1012.8       NaN       NaN     18.1     26.5         No   \n",
              "4       1010.8       1006.0       7.0       8.0     17.8     29.7         No   \n",
              "\n",
              "   RainTomorrow  \n",
              "0            No  \n",
              "1            No  \n",
              "2            No  \n",
              "3            No  \n",
              "4            No  \n",
              "\n",
              "[5 rows x 23 columns]"
            ]
          },
          "execution_count": 99,
          "metadata": {},
          "output_type": "execute_result"
        }
      ],
      "source": [
        "data.head()"
      ]
    },
    {
      "cell_type": "code",
      "execution_count": 100,
      "metadata": {},
      "outputs": [
        {
          "data": {
            "text/html": [
              "<div>\n",
              "<style scoped>\n",
              "    .dataframe tbody tr th:only-of-type {\n",
              "        vertical-align: middle;\n",
              "    }\n",
              "\n",
              "    .dataframe tbody tr th {\n",
              "        vertical-align: top;\n",
              "    }\n",
              "\n",
              "    .dataframe thead th {\n",
              "        text-align: right;\n",
              "    }\n",
              "</style>\n",
              "<table border=\"1\" class=\"dataframe\">\n",
              "  <thead>\n",
              "    <tr style=\"text-align: right;\">\n",
              "      <th></th>\n",
              "      <th>MinTemp</th>\n",
              "      <th>MaxTemp</th>\n",
              "      <th>Rainfall</th>\n",
              "      <th>Evaporation</th>\n",
              "      <th>Sunshine</th>\n",
              "      <th>WindGustSpeed</th>\n",
              "      <th>WindSpeed9am</th>\n",
              "      <th>WindSpeed3pm</th>\n",
              "      <th>Humidity9am</th>\n",
              "      <th>Humidity3pm</th>\n",
              "      <th>Pressure9am</th>\n",
              "      <th>Pressure3pm</th>\n",
              "      <th>Cloud9am</th>\n",
              "      <th>Cloud3pm</th>\n",
              "      <th>Temp9am</th>\n",
              "      <th>Temp3pm</th>\n",
              "    </tr>\n",
              "  </thead>\n",
              "  <tbody>\n",
              "    <tr>\n",
              "      <th>count</th>\n",
              "      <td>143975.000000</td>\n",
              "      <td>144199.000000</td>\n",
              "      <td>142199.000000</td>\n",
              "      <td>82670.000000</td>\n",
              "      <td>75625.000000</td>\n",
              "      <td>135197.000000</td>\n",
              "      <td>143693.000000</td>\n",
              "      <td>142398.000000</td>\n",
              "      <td>142806.000000</td>\n",
              "      <td>140953.000000</td>\n",
              "      <td>130395.00000</td>\n",
              "      <td>130432.000000</td>\n",
              "      <td>89572.000000</td>\n",
              "      <td>86102.000000</td>\n",
              "      <td>143693.000000</td>\n",
              "      <td>141851.00000</td>\n",
              "    </tr>\n",
              "    <tr>\n",
              "      <th>mean</th>\n",
              "      <td>12.194034</td>\n",
              "      <td>23.221348</td>\n",
              "      <td>2.360918</td>\n",
              "      <td>5.468232</td>\n",
              "      <td>7.611178</td>\n",
              "      <td>40.035230</td>\n",
              "      <td>14.043426</td>\n",
              "      <td>18.662657</td>\n",
              "      <td>68.880831</td>\n",
              "      <td>51.539116</td>\n",
              "      <td>1017.64994</td>\n",
              "      <td>1015.255889</td>\n",
              "      <td>4.447461</td>\n",
              "      <td>4.509930</td>\n",
              "      <td>16.990631</td>\n",
              "      <td>21.68339</td>\n",
              "    </tr>\n",
              "    <tr>\n",
              "      <th>std</th>\n",
              "      <td>6.398495</td>\n",
              "      <td>7.119049</td>\n",
              "      <td>8.478060</td>\n",
              "      <td>4.193704</td>\n",
              "      <td>3.785483</td>\n",
              "      <td>13.607062</td>\n",
              "      <td>8.915375</td>\n",
              "      <td>8.809800</td>\n",
              "      <td>19.029164</td>\n",
              "      <td>20.795902</td>\n",
              "      <td>7.10653</td>\n",
              "      <td>7.037414</td>\n",
              "      <td>2.887159</td>\n",
              "      <td>2.720357</td>\n",
              "      <td>6.488753</td>\n",
              "      <td>6.93665</td>\n",
              "    </tr>\n",
              "    <tr>\n",
              "      <th>min</th>\n",
              "      <td>-8.500000</td>\n",
              "      <td>-4.800000</td>\n",
              "      <td>0.000000</td>\n",
              "      <td>0.000000</td>\n",
              "      <td>0.000000</td>\n",
              "      <td>6.000000</td>\n",
              "      <td>0.000000</td>\n",
              "      <td>0.000000</td>\n",
              "      <td>0.000000</td>\n",
              "      <td>0.000000</td>\n",
              "      <td>980.50000</td>\n",
              "      <td>977.100000</td>\n",
              "      <td>0.000000</td>\n",
              "      <td>0.000000</td>\n",
              "      <td>-7.200000</td>\n",
              "      <td>-5.40000</td>\n",
              "    </tr>\n",
              "    <tr>\n",
              "      <th>25%</th>\n",
              "      <td>7.600000</td>\n",
              "      <td>17.900000</td>\n",
              "      <td>0.000000</td>\n",
              "      <td>2.600000</td>\n",
              "      <td>4.800000</td>\n",
              "      <td>31.000000</td>\n",
              "      <td>7.000000</td>\n",
              "      <td>13.000000</td>\n",
              "      <td>57.000000</td>\n",
              "      <td>37.000000</td>\n",
              "      <td>1012.90000</td>\n",
              "      <td>1010.400000</td>\n",
              "      <td>1.000000</td>\n",
              "      <td>2.000000</td>\n",
              "      <td>12.300000</td>\n",
              "      <td>16.60000</td>\n",
              "    </tr>\n",
              "    <tr>\n",
              "      <th>50%</th>\n",
              "      <td>12.000000</td>\n",
              "      <td>22.600000</td>\n",
              "      <td>0.000000</td>\n",
              "      <td>4.800000</td>\n",
              "      <td>8.400000</td>\n",
              "      <td>39.000000</td>\n",
              "      <td>13.000000</td>\n",
              "      <td>19.000000</td>\n",
              "      <td>70.000000</td>\n",
              "      <td>52.000000</td>\n",
              "      <td>1017.60000</td>\n",
              "      <td>1015.200000</td>\n",
              "      <td>5.000000</td>\n",
              "      <td>5.000000</td>\n",
              "      <td>16.700000</td>\n",
              "      <td>21.10000</td>\n",
              "    </tr>\n",
              "    <tr>\n",
              "      <th>75%</th>\n",
              "      <td>16.900000</td>\n",
              "      <td>28.200000</td>\n",
              "      <td>0.800000</td>\n",
              "      <td>7.400000</td>\n",
              "      <td>10.600000</td>\n",
              "      <td>48.000000</td>\n",
              "      <td>19.000000</td>\n",
              "      <td>24.000000</td>\n",
              "      <td>83.000000</td>\n",
              "      <td>66.000000</td>\n",
              "      <td>1022.40000</td>\n",
              "      <td>1020.000000</td>\n",
              "      <td>7.000000</td>\n",
              "      <td>7.000000</td>\n",
              "      <td>21.600000</td>\n",
              "      <td>26.40000</td>\n",
              "    </tr>\n",
              "    <tr>\n",
              "      <th>max</th>\n",
              "      <td>33.900000</td>\n",
              "      <td>48.100000</td>\n",
              "      <td>371.000000</td>\n",
              "      <td>145.000000</td>\n",
              "      <td>14.500000</td>\n",
              "      <td>135.000000</td>\n",
              "      <td>130.000000</td>\n",
              "      <td>87.000000</td>\n",
              "      <td>100.000000</td>\n",
              "      <td>100.000000</td>\n",
              "      <td>1041.00000</td>\n",
              "      <td>1039.600000</td>\n",
              "      <td>9.000000</td>\n",
              "      <td>9.000000</td>\n",
              "      <td>40.200000</td>\n",
              "      <td>46.70000</td>\n",
              "    </tr>\n",
              "  </tbody>\n",
              "</table>\n",
              "</div>"
            ],
            "text/plain": [
              "             MinTemp        MaxTemp       Rainfall   Evaporation  \\\n",
              "count  143975.000000  144199.000000  142199.000000  82670.000000   \n",
              "mean       12.194034      23.221348       2.360918      5.468232   \n",
              "std         6.398495       7.119049       8.478060      4.193704   \n",
              "min        -8.500000      -4.800000       0.000000      0.000000   \n",
              "25%         7.600000      17.900000       0.000000      2.600000   \n",
              "50%        12.000000      22.600000       0.000000      4.800000   \n",
              "75%        16.900000      28.200000       0.800000      7.400000   \n",
              "max        33.900000      48.100000     371.000000    145.000000   \n",
              "\n",
              "           Sunshine  WindGustSpeed   WindSpeed9am   WindSpeed3pm  \\\n",
              "count  75625.000000  135197.000000  143693.000000  142398.000000   \n",
              "mean       7.611178      40.035230      14.043426      18.662657   \n",
              "std        3.785483      13.607062       8.915375       8.809800   \n",
              "min        0.000000       6.000000       0.000000       0.000000   \n",
              "25%        4.800000      31.000000       7.000000      13.000000   \n",
              "50%        8.400000      39.000000      13.000000      19.000000   \n",
              "75%       10.600000      48.000000      19.000000      24.000000   \n",
              "max       14.500000     135.000000     130.000000      87.000000   \n",
              "\n",
              "         Humidity9am    Humidity3pm   Pressure9am    Pressure3pm  \\\n",
              "count  142806.000000  140953.000000  130395.00000  130432.000000   \n",
              "mean       68.880831      51.539116    1017.64994    1015.255889   \n",
              "std        19.029164      20.795902       7.10653       7.037414   \n",
              "min         0.000000       0.000000     980.50000     977.100000   \n",
              "25%        57.000000      37.000000    1012.90000    1010.400000   \n",
              "50%        70.000000      52.000000    1017.60000    1015.200000   \n",
              "75%        83.000000      66.000000    1022.40000    1020.000000   \n",
              "max       100.000000     100.000000    1041.00000    1039.600000   \n",
              "\n",
              "           Cloud9am      Cloud3pm        Temp9am       Temp3pm  \n",
              "count  89572.000000  86102.000000  143693.000000  141851.00000  \n",
              "mean       4.447461      4.509930      16.990631      21.68339  \n",
              "std        2.887159      2.720357       6.488753       6.93665  \n",
              "min        0.000000      0.000000      -7.200000      -5.40000  \n",
              "25%        1.000000      2.000000      12.300000      16.60000  \n",
              "50%        5.000000      5.000000      16.700000      21.10000  \n",
              "75%        7.000000      7.000000      21.600000      26.40000  \n",
              "max        9.000000      9.000000      40.200000      46.70000  "
            ]
          },
          "execution_count": 100,
          "metadata": {},
          "output_type": "execute_result"
        }
      ],
      "source": [
        "data.describe()"
      ]
    },
    {
      "cell_type": "code",
      "execution_count": 80,
      "metadata": {},
      "outputs": [],
      "source": [
        "# pd.plotting.scatter_matrix(data,figsize=(100,100))"
      ]
    },
    {
      "cell_type": "markdown",
      "metadata": {
        "id": "vsDr6wuaTg0d"
      },
      "source": [
        "## 2. ver frecuencia de valores de atributos categoricos y/o"
      ]
    },
    {
      "cell_type": "markdown",
      "metadata": {},
      "source": [
        "2.a Frecuencias para cada estación"
      ]
    },
    {
      "cell_type": "code",
      "execution_count": 98,
      "metadata": {
        "id": "0pT2n9KFTg0e"
      },
      "outputs": [
        {
          "data": {
            "image/png": "[encoded data removed]",
            "text/plain": [
              "<Figure size 1440x720 with 1 Axes>"
            ]
          },
          "metadata": {
            "needs_background": "light"
          },
          "output_type": "display_data"
        }
      ],
      "source": [
        "# Group by 'Location' to obtain the counts\n",
        "Location = data.groupby('Location').size()\n",
        "\n",
        "# Sort 'Location' from least to greatest\n",
        "Location = Location.sort_values(ascending=False)\n",
        "\n",
        "# Create the bar chart\n",
        "plt.figure(figsize=(20, 10))  # Adjust the figure size if necessary\n",
        "bars = plt.bar(Location.index, Location.values, color=theme)\n",
        "\n",
        "# Add numbers on top of the bars\n",
        "for bar in bars:\n",
        "    height = bar.get_height()\n",
        "    plt.annotate('{}'.format(height),\n",
        "                 xy=(bar.get_x() + bar.get_width() / 2, height),\n",
        "                 xytext=(0, 3),  # 3 points of vertical offset\n",
        "                 textcoords=\"offset points\",\n",
        "                 ha='center', va='bottom',\n",
        "                 rotation=90)\n",
        "\n",
        "# Axis labels\n",
        "plt.xlabel('Location')\n",
        "plt.ylabel('Count')\n",
        "\n",
        "# Rotate the x-axis labels if they are long for better visualization\n",
        "plt.xticks(rotation=90)\n",
        "\n",
        "# Show the chart\n",
        "plt.tight_layout()  # Adjust the layout to prevent label cutoff\n",
        "plt.show()\n"
      ]
    },
    {
      "cell_type": "markdown",
      "metadata": {},
      "source": [
        "2.b Frecuencias para RainToday y RainTomorrow"
      ]
    },
    {
      "cell_type": "code",
      "execution_count": 82,
      "metadata": {},
      "outputs": [
        {
          "name": "stdout",
          "output_type": "stream",
          "text": [
            "RainToday\n",
            "No     110319\n",
            "Yes     31880\n",
            "dtype: int64\n",
            "RainTomorrow\n",
            "No     110316\n",
            "Yes     31877\n",
            "dtype: int64\n"
          ]
        }
      ],
      "source": [
        "RainToday = data.groupby('RainToday').size()\n",
        "print(RainToday)\n",
        "\n",
        "RainTomorrow = data.groupby('RainTomorrow').size()\n",
        "print(RainTomorrow)"
      ]
    },
    {
      "cell_type": "markdown",
      "metadata": {
        "id": "ixxwRHotTg0e"
      },
      "source": [
        "## 3. ver frecuencias porcentuales de valores de atributos categoricos y/o finitos"
      ]
    },
    {
      "cell_type": "code",
      "execution_count": null,
      "metadata": {
        "id": "jTJTjuU4Tg0e"
      },
      "outputs": [],
      "source": []
    },
    {
      "cell_type": "markdown",
      "metadata": {
        "id": "LwOPf_LBTg0f"
      },
      "source": [
        "## 4. agrupar datos respecto a variable independiente ( si llueve mañana ) y ver medidas de centralidad\n"
      ]
    },
    {
      "cell_type": "markdown",
      "metadata": {},
      "source": [
        "## Medidas de centralidad para 'RainTomorrow'"
      ]
    },
    {
      "cell_type": "markdown",
      "metadata": {
        "id": "8pLLWd9kTg0f"
      },
      "source": [
        "### media (promedio)"
      ]
    },
    {
      "cell_type": "code",
      "execution_count": 106,
      "metadata": {
        "id": "Y20pJusuTg0f"
      },
      "outputs": [
        {
          "data": {
            "text/html": [
              "<div>\n",
              "<style scoped>\n",
              "    .dataframe tbody tr th:only-of-type {\n",
              "        vertical-align: middle;\n",
              "    }\n",
              "\n",
              "    .dataframe tbody tr th {\n",
              "        vertical-align: top;\n",
              "    }\n",
              "\n",
              "    .dataframe thead th {\n",
              "        text-align: right;\n",
              "    }\n",
              "</style>\n",
              "<table border=\"1\" class=\"dataframe\">\n",
              "  <thead>\n",
              "    <tr style=\"text-align: right;\">\n",
              "      <th></th>\n",
              "      <th>MinTemp</th>\n",
              "      <th>MaxTemp</th>\n",
              "      <th>Rainfall</th>\n",
              "      <th>Evaporation</th>\n",
              "      <th>Sunshine</th>\n",
              "      <th>WindGustSpeed</th>\n",
              "      <th>WindSpeed9am</th>\n",
              "      <th>WindSpeed3pm</th>\n",
              "      <th>Humidity9am</th>\n",
              "      <th>Humidity3pm</th>\n",
              "      <th>Pressure9am</th>\n",
              "      <th>Pressure3pm</th>\n",
              "      <th>Cloud9am</th>\n",
              "      <th>Cloud3pm</th>\n",
              "      <th>Temp9am</th>\n",
              "      <th>Temp3pm</th>\n",
              "    </tr>\n",
              "    <tr>\n",
              "      <th>RainTomorrow</th>\n",
              "      <th></th>\n",
              "      <th></th>\n",
              "      <th></th>\n",
              "      <th></th>\n",
              "      <th></th>\n",
              "      <th></th>\n",
              "      <th></th>\n",
              "      <th></th>\n",
              "      <th></th>\n",
              "      <th></th>\n",
              "      <th></th>\n",
              "      <th></th>\n",
              "      <th></th>\n",
              "      <th></th>\n",
              "      <th></th>\n",
              "      <th></th>\n",
              "    </tr>\n",
              "  </thead>\n",
              "  <tbody>\n",
              "    <tr>\n",
              "      <th>No</th>\n",
              "      <td>11.897675</td>\n",
              "      <td>23.836247</td>\n",
              "      <td>1.270290</td>\n",
              "      <td>5.734807</td>\n",
              "      <td>8.546358</td>\n",
              "      <td>38.288391</td>\n",
              "      <td>13.567314</td>\n",
              "      <td>18.222804</td>\n",
              "      <td>66.217573</td>\n",
              "      <td>46.510625</td>\n",
              "      <td>1018.595599</td>\n",
              "      <td>1016.113587</td>\n",
              "      <td>3.932282</td>\n",
              "      <td>3.921896</td>\n",
              "      <td>17.077001</td>\n",
              "      <td>22.402905</td>\n",
              "    </tr>\n",
              "    <tr>\n",
              "      <th>Yes</th>\n",
              "      <td>13.186890</td>\n",
              "      <td>21.119100</td>\n",
              "      <td>6.142104</td>\n",
              "      <td>4.527779</td>\n",
              "      <td>4.471761</td>\n",
              "      <td>45.946764</td>\n",
              "      <td>15.508577</td>\n",
              "      <td>20.078509</td>\n",
              "      <td>77.983314</td>\n",
              "      <td>68.800019</td>\n",
              "      <td>1014.400000</td>\n",
              "      <td>1012.300820</td>\n",
              "      <td>6.099990</td>\n",
              "      <td>6.360065</td>\n",
              "      <td>16.676598</td>\n",
              "      <td>19.197113</td>\n",
              "    </tr>\n",
              "  </tbody>\n",
              "</table>\n",
              "</div>"
            ],
            "text/plain": [
              "                MinTemp    MaxTemp  Rainfall  Evaporation  Sunshine  \\\n",
              "RainTomorrow                                                          \n",
              "No            11.897675  23.836247  1.270290     5.734807  8.546358   \n",
              "Yes           13.186890  21.119100  6.142104     4.527779  4.471761   \n",
              "\n",
              "              WindGustSpeed  WindSpeed9am  WindSpeed3pm  Humidity9am  \\\n",
              "RainTomorrow                                                           \n",
              "No                38.288391     13.567314     18.222804    66.217573   \n",
              "Yes               45.946764     15.508577     20.078509    77.983314   \n",
              "\n",
              "              Humidity3pm  Pressure9am  Pressure3pm  Cloud9am  Cloud3pm  \\\n",
              "RainTomorrow                                                              \n",
              "No              46.510625  1018.595599  1016.113587  3.932282  3.921896   \n",
              "Yes             68.800019  1014.400000  1012.300820  6.099990  6.360065   \n",
              "\n",
              "                Temp9am    Temp3pm  \n",
              "RainTomorrow                        \n",
              "No            17.077001  22.402905  \n",
              "Yes           16.676598  19.197113  "
            ]
          },
          "execution_count": 106,
          "metadata": {},
          "output_type": "execute_result"
        }
      ],
      "source": [
        "data.groupby('RainTomorrow').mean()"
      ]
    },
    {
      "cell_type": "markdown",
      "metadata": {},
      "source": [
        "####     Media robusta (quitando el 10% de los extremos) en los datos númericos"
      ]
    },
    {
      "cell_type": "code",
      "execution_count": 131,
      "metadata": {},
      "outputs": [
        {
          "name": "stdout",
          "output_type": "stream",
          "text": [
            "Trim mean in  MinTemp 12.285219304276088\n",
            "Trim mean in  MaxTemp 23.112919359274027\n",
            "Trim mean in  Rainfall 0.7017109514643202\n",
            "Trim mean in  Evaporation nan\n",
            "Trim mean in  Sunshine nan\n",
            "Trim mean in  WindGustSpeed 41.04739275402172\n",
            "Trim mean in  WindSpeed9am 13.652309913378248\n",
            "Trim mean in  WindSpeed3pm 18.519189124157844\n",
            "Trim mean in  Humidity9am 70.46945036436134\n",
            "Trim mean in  Humidity3pm 52.553236284889316\n",
            "Trim mean in  Pressure9am nan\n",
            "Trim mean in  Pressure3pm nan\n",
            "Trim mean in  Cloud9am nan\n",
            "Trim mean in  Cloud3pm nan\n",
            "Trim mean in  Temp9am 17.03754468582428\n",
            "Trim mean in  Temp3pm 21.773405919153035\n"
          ]
        }
      ],
      "source": [
        "\n",
        "for name in numericNames: \n",
        "    print('Trim mean in ', name, trim_mean(data[name], 0.10))"
      ]
    },
    {
      "cell_type": "markdown",
      "metadata": {
        "id": "PC0vffU7Tg0f"
      },
      "source": [
        "### 4.b mediana (dato en la mitad, más fuerte que la media)\n"
      ]
    },
    {
      "cell_type": "code",
      "execution_count": 141,
      "metadata": {
        "id": "5YlCsP5ITg0f"
      },
      "outputs": [
        {
          "data": {
            "text/html": [
              "<div>\n",
              "<style scoped>\n",
              "    .dataframe tbody tr th:only-of-type {\n",
              "        vertical-align: middle;\n",
              "    }\n",
              "\n",
              "    .dataframe tbody tr th {\n",
              "        vertical-align: top;\n",
              "    }\n",
              "\n",
              "    .dataframe thead th {\n",
              "        text-align: right;\n",
              "    }\n",
              "</style>\n",
              "<table border=\"1\" class=\"dataframe\">\n",
              "  <thead>\n",
              "    <tr style=\"text-align: right;\">\n",
              "      <th></th>\n",
              "      <th>MinTemp</th>\n",
              "      <th>MaxTemp</th>\n",
              "      <th>Rainfall</th>\n",
              "      <th>Evaporation</th>\n",
              "      <th>Sunshine</th>\n",
              "      <th>WindGustSpeed</th>\n",
              "      <th>WindSpeed9am</th>\n",
              "      <th>WindSpeed3pm</th>\n",
              "      <th>Humidity9am</th>\n",
              "      <th>Humidity3pm</th>\n",
              "      <th>Pressure9am</th>\n",
              "      <th>Pressure3pm</th>\n",
              "      <th>Cloud9am</th>\n",
              "      <th>Cloud3pm</th>\n",
              "      <th>Temp9am</th>\n",
              "      <th>Temp3pm</th>\n",
              "    </tr>\n",
              "    <tr>\n",
              "      <th>RainTomorrow</th>\n",
              "      <th></th>\n",
              "      <th></th>\n",
              "      <th></th>\n",
              "      <th></th>\n",
              "      <th></th>\n",
              "      <th></th>\n",
              "      <th></th>\n",
              "      <th></th>\n",
              "      <th></th>\n",
              "      <th></th>\n",
              "      <th></th>\n",
              "      <th></th>\n",
              "      <th></th>\n",
              "      <th></th>\n",
              "      <th></th>\n",
              "      <th></th>\n",
              "    </tr>\n",
              "  </thead>\n",
              "  <tbody>\n",
              "    <tr>\n",
              "      <th>No</th>\n",
              "      <td>11.8</td>\n",
              "      <td>23.3</td>\n",
              "      <td>0.0</td>\n",
              "      <td>5.0</td>\n",
              "      <td>9.4</td>\n",
              "      <td>37.0</td>\n",
              "      <td>13.0</td>\n",
              "      <td>17.0</td>\n",
              "      <td>67.0</td>\n",
              "      <td>47.0</td>\n",
              "      <td>1018.5</td>\n",
              "      <td>1016.0</td>\n",
              "      <td>4.0</td>\n",
              "      <td>4.0</td>\n",
              "      <td>16.9</td>\n",
              "      <td>21.9</td>\n",
              "    </tr>\n",
              "    <tr>\n",
              "      <th>Yes</th>\n",
              "      <td>12.7</td>\n",
              "      <td>20.2</td>\n",
              "      <td>0.8</td>\n",
              "      <td>3.8</td>\n",
              "      <td>4.3</td>\n",
              "      <td>44.0</td>\n",
              "      <td>15.0</td>\n",
              "      <td>19.0</td>\n",
              "      <td>80.0</td>\n",
              "      <td>70.0</td>\n",
              "      <td>1014.3</td>\n",
              "      <td>1012.2</td>\n",
              "      <td>7.0</td>\n",
              "      <td>7.0</td>\n",
              "      <td>16.1</td>\n",
              "      <td>18.4</td>\n",
              "    </tr>\n",
              "  </tbody>\n",
              "</table>\n",
              "</div>"
            ],
            "text/plain": [
              "              MinTemp  MaxTemp  Rainfall  Evaporation  Sunshine  \\\n",
              "RainTomorrow                                                      \n",
              "No               11.8     23.3       0.0          5.0       9.4   \n",
              "Yes              12.7     20.2       0.8          3.8       4.3   \n",
              "\n",
              "              WindGustSpeed  WindSpeed9am  WindSpeed3pm  Humidity9am  \\\n",
              "RainTomorrow                                                           \n",
              "No                     37.0          13.0          17.0         67.0   \n",
              "Yes                    44.0          15.0          19.0         80.0   \n",
              "\n",
              "              Humidity3pm  Pressure9am  Pressure3pm  Cloud9am  Cloud3pm  \\\n",
              "RainTomorrow                                                              \n",
              "No                   47.0       1018.5       1016.0       4.0       4.0   \n",
              "Yes                  70.0       1014.3       1012.2       7.0       7.0   \n",
              "\n",
              "              Temp9am  Temp3pm  \n",
              "RainTomorrow                    \n",
              "No               16.9     21.9  \n",
              "Yes              16.1     18.4  "
            ]
          },
          "execution_count": 141,
          "metadata": {},
          "output_type": "execute_result"
        }
      ],
      "source": [
        "data.groupby('RainTomorrow').median()\n"
      ]
    },
    {
      "cell_type": "markdown",
      "metadata": {
        "id": "mnKu_-TkTg0f"
      },
      "source": [
        "### 4.c moda (el dato que más se repite)"
      ]
    },
    {
      "cell_type": "code",
      "execution_count": 150,
      "metadata": {
        "id": "VUSp7-fITg0g"
      },
      "outputs": [
        {
          "data": {
            "text/html": [
              "<div>\n",
              "<style scoped>\n",
              "    .dataframe tbody tr th:only-of-type {\n",
              "        vertical-align: middle;\n",
              "    }\n",
              "\n",
              "    .dataframe tbody tr th {\n",
              "        vertical-align: top;\n",
              "    }\n",
              "\n",
              "    .dataframe thead th {\n",
              "        text-align: right;\n",
              "    }\n",
              "</style>\n",
              "<table border=\"1\" class=\"dataframe\">\n",
              "  <thead>\n",
              "    <tr style=\"text-align: right;\">\n",
              "      <th></th>\n",
              "      <th>Date</th>\n",
              "      <th>Location</th>\n",
              "      <th>MinTemp</th>\n",
              "      <th>MaxTemp</th>\n",
              "      <th>Rainfall</th>\n",
              "      <th>Evaporation</th>\n",
              "      <th>Sunshine</th>\n",
              "      <th>WindGustDir</th>\n",
              "      <th>WindGustSpeed</th>\n",
              "      <th>WindDir9am</th>\n",
              "      <th>...</th>\n",
              "      <th>WindSpeed3pm</th>\n",
              "      <th>Humidity9am</th>\n",
              "      <th>Humidity3pm</th>\n",
              "      <th>Pressure9am</th>\n",
              "      <th>Pressure3pm</th>\n",
              "      <th>Cloud9am</th>\n",
              "      <th>Cloud3pm</th>\n",
              "      <th>Temp9am</th>\n",
              "      <th>Temp3pm</th>\n",
              "      <th>RainToday</th>\n",
              "    </tr>\n",
              "    <tr>\n",
              "      <th>RainTomorrow</th>\n",
              "      <th></th>\n",
              "      <th></th>\n",
              "      <th></th>\n",
              "      <th></th>\n",
              "      <th></th>\n",
              "      <th></th>\n",
              "      <th></th>\n",
              "      <th></th>\n",
              "      <th></th>\n",
              "      <th></th>\n",
              "      <th></th>\n",
              "      <th></th>\n",
              "      <th></th>\n",
              "      <th></th>\n",
              "      <th></th>\n",
              "      <th></th>\n",
              "      <th></th>\n",
              "      <th></th>\n",
              "      <th></th>\n",
              "      <th></th>\n",
              "      <th></th>\n",
              "    </tr>\n",
              "  </thead>\n",
              "  <tbody>\n",
              "    <tr>\n",
              "      <th>No</th>\n",
              "      <td>2014-03-18</td>\n",
              "      <td>Canberra</td>\n",
              "      <td>11.0</td>\n",
              "      <td>20.0</td>\n",
              "      <td>0.0</td>\n",
              "      <td>4.0</td>\n",
              "      <td>11.0</td>\n",
              "      <td>E</td>\n",
              "      <td>35.0</td>\n",
              "      <td>N</td>\n",
              "      <td>...</td>\n",
              "      <td>13.0</td>\n",
              "      <td>65.0</td>\n",
              "      <td>52.0</td>\n",
              "      <td>1017.9</td>\n",
              "      <td>1015.5</td>\n",
              "      <td>1.0</td>\n",
              "      <td>1.0</td>\n",
              "      <td>16.0</td>\n",
              "      <td>20.0</td>\n",
              "      <td>No</td>\n",
              "    </tr>\n",
              "    <tr>\n",
              "      <th>Yes</th>\n",
              "      <td>2010-09-03</td>\n",
              "      <td>Portland</td>\n",
              "      <td>9.6</td>\n",
              "      <td>17.2</td>\n",
              "      <td>0.0</td>\n",
              "      <td>4.0</td>\n",
              "      <td>0.0</td>\n",
              "      <td>W</td>\n",
              "      <td>39.0</td>\n",
              "      <td>N</td>\n",
              "      <td>...</td>\n",
              "      <td>17.0</td>\n",
              "      <td>99.0</td>\n",
              "      <td>69.0</td>\n",
              "      <td>1014.0</td>\n",
              "      <td>1010.4</td>\n",
              "      <td>8.0</td>\n",
              "      <td>8.0</td>\n",
              "      <td>13.8</td>\n",
              "      <td>16.0</td>\n",
              "      <td>No</td>\n",
              "    </tr>\n",
              "  </tbody>\n",
              "</table>\n",
              "<p>2 rows × 22 columns</p>\n",
              "</div>"
            ],
            "text/plain": [
              "                    Date  Location  MinTemp  MaxTemp  Rainfall  Evaporation  \\\n",
              "RainTomorrow                                                                  \n",
              "No            2014-03-18  Canberra     11.0     20.0       0.0          4.0   \n",
              "Yes           2010-09-03  Portland      9.6     17.2       0.0          4.0   \n",
              "\n",
              "              Sunshine WindGustDir  WindGustSpeed WindDir9am  ...  \\\n",
              "RainTomorrow                                                  ...   \n",
              "No                11.0           E           35.0          N  ...   \n",
              "Yes                0.0           W           39.0          N  ...   \n",
              "\n",
              "             WindSpeed3pm  Humidity9am  Humidity3pm  Pressure9am  Pressure3pm  \\\n",
              "RainTomorrow                                                                    \n",
              "No                   13.0         65.0         52.0       1017.9       1015.5   \n",
              "Yes                  17.0         99.0         69.0       1014.0       1010.4   \n",
              "\n",
              "              Cloud9am  Cloud3pm  Temp9am  Temp3pm  RainToday  \n",
              "RainTomorrow                                                   \n",
              "No                 1.0       1.0     16.0     20.0         No  \n",
              "Yes                8.0       8.0     13.8     16.0         No  \n",
              "\n",
              "[2 rows x 22 columns]"
            ]
          },
          "execution_count": 150,
          "metadata": {},
          "output_type": "execute_result"
        }
      ],
      "source": [
        "data.groupby('RainTomorrow').agg(lambda x: x.mode().iloc[0])"
      ]
    },
    {
      "cell_type": "code",
      "execution_count": 168,
      "metadata": {},
      "outputs": [
        {
          "name": "stdout",
          "output_type": "stream",
          "text": [
            "Verify mode for group No in column  Location 0    Canberra\n",
            "Name: Location, dtype: object\n",
            "Verify mode for group Yes in column  Location 0    Portland\n",
            "Name: Location, dtype: object\n"
          ]
        }
      ],
      "source": [
        "#Verify the mode \n",
        "column = 'Location'\n",
        "print('Verify mode for group No in column ', column, data.groupby('RainTomorrow').get_group('No')[column].mode())\n",
        "print('Verify mode for group Yes in column ', column, data.groupby('RainTomorrow').get_group('Yes')[column].mode())\n"
      ]
    },
    {
      "cell_type": "markdown",
      "metadata": {
        "id": "zS1lnz0oTg0g"
      },
      "source": [
        "## 5. Ver cuartiles y percentiles de variables continuas.\n",
        "\n",
        "El k-esimo percentil de una variable numérica es un valor tal que el k% de las observaciones se encuentran debajo del percentil y el (100 − k) % se encuentran sobre este valor.\n",
        "\n",
        "En estadística se usan los \\textbf{cuantiles} que son equivalentes a los percentiles expresados en fracciones en vez de porcentajes."
      ]
    },
    {
      "cell_type": "markdown",
      "metadata": {},
      "source": [
        "### percentiles"
      ]
    },
    {
      "cell_type": "code",
      "execution_count": 190,
      "metadata": {},
      "outputs": [
        {
          "name": "stdout",
          "output_type": "stream",
          "text": [
            "Percentil       0.00    0.01    0.02    0.03    0.04    0.05    0.06    0.07    0.08    0.09    0.10    0.11    0.12    0.13    0.14    0.15    0.16    0.17    0.18    0.19    0.20    0.21    0.22    0.23    0.24    0.25    0.26    0.27    0.28    0.29    0.30    0.31    0.32    0.33    0.34    0.35    0.36    0.37    0.38    0.39    0.40    0.41    0.42    0.43    0.44    0.45    0.46    0.47    0.48    0.49    0.50    0.51    0.52    0.53    0.54    0.55    0.56    0.57    0.58    0.59    0.60    0.61    0.62    0.63    0.64    0.65    0.66    0.67    0.68    0.69    0.70    0.71    0.72    0.73    0.74    0.75    0.76    0.77    0.78    0.79    0.80    0.81    0.82    0.83    0.84    0.85    0.86    0.87    0.88    0.89    0.90    0.91    0.92    0.93    0.94    0.95    0.96    0.97    0.98    0.99    1.00\n",
            "Columna                                                                                                                                                                                                                                                                                                                                                                                                                                                                                                                                                                                                                                                                                                                                                                                                                                             \n",
            "Cloud3pm         0.0     0.0     0.0     0.0     0.0     0.0     1.0     1.0     1.0     1.0     1.0     1.0     1.0     1.0     1.0     1.0     1.0     1.0     1.0     1.0     1.0     1.0     1.0     1.0     2.0     2.0     2.0     2.0     2.0     2.0     2.0     2.0     3.0     3.0     3.0     3.0     3.0     3.0     3.0     3.0     4.0     4.0     4.0     4.0     4.0     4.0     5.0     5.0     5.0     5.0     5.0     5.0     5.0     5.0     6.0     6.0     6.0     6.0     6.0     6.0     6.0     6.0     6.0     6.0     6.0     7.0     7.0     7.0     7.0     7.0     7.0     7.0     7.0     7.0     7.0     7.0     7.0     7.0     7.0     7.0     7.0     7.0     7.0     7.0     7.0     7.0     8.0     8.0     8.0     8.0     8.0     8.0     8.0     8.0     8.0     8.0     8.0     8.0     8.0     8.0     9.0\n",
            "Cloud9am         0.0     0.0     0.0     0.0     0.0     0.0     0.0     0.0     0.0     0.0     1.0     1.0     1.0     1.0     1.0     1.0     1.0     1.0     1.0     1.0     1.0     1.0     1.0     1.0     1.0     1.0     1.0     1.0     2.0     2.0     2.0     2.0     2.0     2.0     2.0     3.0     3.0     3.0     3.0     3.0     3.0     3.0     4.0     4.0     4.0     4.0     5.0     5.0     5.0     5.0     5.0     5.0     5.0     6.0     6.0     6.0     6.0     6.0     6.0     6.0     6.0     6.0     7.0     7.0     7.0     7.0     7.0     7.0     7.0     7.0     7.0     7.0     7.0     7.0     7.0     7.0     7.0     7.0     7.0     7.0     7.0     7.0     7.0     7.0     8.0     8.0     8.0     8.0     8.0     8.0     8.0     8.0     8.0     8.0     8.0     8.0     8.0     8.0     8.0     8.0     9.0\n",
            "Evaporation      0.0     0.4     0.6     0.6     0.8     1.0     1.0     1.2     1.2     1.4     1.4     1.4     1.6     1.6     1.8     1.8     2.0     2.0     2.0     2.2     2.2     2.4     2.4     2.4     2.6     2.6     2.8     2.8     2.8     3.0     3.0     3.2     3.2     3.2     3.4     3.4     3.6     3.6     3.8     3.8     4.0     4.0     4.0     4.0     4.1     4.2     4.4     4.4     4.6     4.6     4.8     4.8     5.0     5.0     5.0     5.2     5.2     5.4     5.4     5.6     5.6     5.8     6.0     6.0     6.1     6.2     6.4     6.4     6.6     6.6     6.8     6.8     7.0     7.0     7.2     7.4     7.4     7.6     7.8     8.0     8.0     8.0     8.2     8.4     8.6     8.8     9.0     9.2     9.6     9.8    10.2    10.4    10.8    11.2    11.8    12.0    13.0    14.0    15.2    18.4   145.0\n",
            "Humidity3pm      0.0     9.0    11.0    13.0    15.0    17.0    18.0    19.0    21.0    22.0    23.0    24.0    25.0    26.0    27.0    28.0    29.0    30.0    31.0    32.0    33.0    34.0    34.0    35.0    36.0    37.0    37.0    38.0    39.0    39.0    40.0    41.0    42.0    42.0    43.0    43.0    44.0    45.0    45.0    46.0    46.0    47.0    48.0    48.0    49.0    49.0    50.0    50.0    51.0    51.0    52.0    52.0    53.0    54.0    54.0    55.0    55.0    56.0    56.0    57.0    57.0    58.0    58.0    59.0    59.0    60.0    60.0    61.0    62.0    62.0    63.0    63.0    64.0    64.0    65.0    66.0    66.0    67.0    68.0    68.0    69.0    70.0    71.0    72.0    72.0    73.0    74.0    75.0    76.0    78.0    79.0    80.0    82.0    84.0    86.0    88.0    90.0    92.0    94.0    98.0   100.0\n",
            "Humidity9am      0.0    18.0    23.0    28.0    31.0    34.0    37.0    39.0    41.0    42.0    44.0    45.0    47.0    48.0    49.0    50.0    50.0    51.0    52.0    53.0    54.0    54.0    55.0    56.0    56.0    57.0    58.0    58.0    59.0    59.0    60.0    61.0    61.0    62.0    62.0    63.0    63.0    64.0    64.0    65.0    65.0    66.0    66.0    67.0    67.0    68.0    68.0    68.0    69.0    69.0    70.0    70.0    71.0    71.0    72.0    72.0    73.0    73.0    74.0    74.0    75.0    75.0    76.0    76.0    77.0    77.0    78.0    78.0    79.0    80.0    80.0    81.0    81.0    82.0    82.0    83.0    84.0    84.0    85.0    86.0    86.0    87.0    88.0    89.0    89.0    90.0    91.0    92.0    92.0    93.0    94.0    95.0    96.0    97.0    97.0    98.0    99.0    99.0   100.0   100.0   100.0\n",
            "MaxTemp         -4.8     9.0    10.9    11.8    12.4    12.8    13.2    13.6    13.9    14.2    14.5    14.8    15.0    15.3    15.6    15.8    16.0    16.3    16.5    16.7    16.9    17.1    17.3    17.5    17.7    17.9    18.1    18.3    18.5    18.7    18.9    19.1    19.3    19.4    19.6    19.8    20.0    20.1    20.3    20.5    20.7    20.9    21.1    21.3    21.5    21.7    21.8    22.0    22.2    22.4    22.6    22.8    23.0    23.2    23.4    23.6    23.9    24.1    24.3    24.5    24.7    24.9    25.1    25.3    25.6    25.8    26.0    26.2    26.5    26.7    27.0    27.2    27.4    27.7    28.0    28.2    28.5    28.8    29.1    29.3    29.6    29.9    30.2    30.5    30.8    31.2    31.5    31.8    32.2    32.5    32.9    33.3    33.8    34.2    34.8    35.5    36.3    37.3    38.5    40.1    48.1\n",
            "MinTemp         -8.5    -1.9    -0.4     0.5     1.2     1.8     2.3     2.8     3.2     3.6     4.0     4.3     4.6     4.9     5.2     5.4     5.7     5.9     6.2     6.4     6.6     6.8     7.0     7.2     7.4     7.6     7.8     8.0     8.2     8.4     8.5     8.7     8.9     9.1     9.2     9.4     9.6     9.8     9.9    10.1    10.3    10.5    10.6    10.8    11.0    11.1    11.3    11.5    11.7    11.8    12.0    12.2    12.4    12.5    12.7    12.9    13.1    13.2    13.4    13.6    13.8    14.0    14.2    14.4    14.6    14.7    14.9    15.1    15.4    15.6    15.8    16.0    16.2    16.4    16.6    16.9    17.1    17.3    17.5    17.8    18.0    18.3    18.5    18.8    19.0    19.3    19.6    19.9    20.2    20.5    20.8    21.2    21.6    22.0    22.5    23.0    23.6    24.2    24.8    25.8    33.9\n",
            "Pressure3pm    977.1   998.5  1001.0  1002.4  1003.3  1004.0  1004.6  1005.2  1005.7  1006.1  1006.4  1006.8  1007.1  1007.4  1007.7  1008.0  1008.3  1008.6  1008.8  1009.1  1009.3  1009.6  1009.8  1010.0  1010.2  1010.4  1010.7  1010.9  1011.1  1011.3  1011.5  1011.7  1011.9  1012.1  1012.3  1012.5  1012.7  1012.9  1013.1  1013.2  1013.4  1013.6  1013.8  1014.0  1014.1  1014.3  1014.5  1014.7  1014.9  1015.1  1015.2  1015.4  1015.6  1015.7  1015.9  1016.1  1016.3  1016.5  1016.6  1016.8  1017.0  1017.2  1017.4  1017.6  1017.8  1018.0  1018.1  1018.3  1018.5  1018.7  1018.9  1019.2  1019.4  1019.6  1019.8  1020.0  1020.2  1020.5  1020.7  1020.9  1021.2  1021.4  1021.7  1022.0  1022.3  1022.6  1022.9  1023.2  1023.5  1023.9  1024.3  1024.7  1025.2  1025.7  1026.3  1026.9  1027.7  1028.6  1029.8  1031.6  1039.6\n",
            "Pressure9am    980.5  1000.2  1002.9  1004.3  1005.4  1006.2  1006.8  1007.4  1007.9  1008.4  1008.8  1009.1  1009.5  1009.8  1010.1  1010.5  1010.8  1011.0  1011.3  1011.6  1011.8  1012.1  1012.3  1012.5  1012.7  1012.9  1013.2  1013.4  1013.6  1013.8  1014.0  1014.2  1014.4  1014.6  1014.8  1014.9  1015.1  1015.3  1015.5  1015.7  1015.9  1016.0  1016.2  1016.4  1016.6  1016.7  1016.9  1017.1  1017.3  1017.5  1017.6  1017.8  1018.0  1018.1  1018.3  1018.5  1018.7  1018.9  1019.0  1019.2  1019.4  1019.6  1019.8  1019.9  1020.1  1020.3  1020.5  1020.7  1020.9  1021.1  1021.3  1021.6  1021.8  1022.0  1022.2  1022.4  1022.6  1022.9  1023.1  1023.3  1023.6  1023.9  1024.1  1024.4  1024.7  1025.0  1025.3  1025.6  1026.0  1026.4  1026.7  1027.2  1027.6  1028.2  1028.8  1029.5  1030.2  1031.1  1032.2  1034.0  1041.0\n",
            "Rainfall         0.0     0.0     0.0     0.0     0.0     0.0     0.0     0.0     0.0     0.0     0.0     0.0     0.0     0.0     0.0     0.0     0.0     0.0     0.0     0.0     0.0     0.0     0.0     0.0     0.0     0.0     0.0     0.0     0.0     0.0     0.0     0.0     0.0     0.0     0.0     0.0     0.0     0.0     0.0     0.0     0.0     0.0     0.0     0.0     0.0     0.0     0.0     0.0     0.0     0.0     0.0     0.0     0.0     0.0     0.0     0.0     0.0     0.0     0.0     0.0     0.0     0.0     0.0     0.0     0.0     0.2     0.2     0.2     0.2     0.2     0.2     0.4     0.4     0.4     0.6     0.8     0.8     1.0     1.2     1.4     1.6     1.8     2.0     2.4     2.8     3.2     3.6     4.0     4.6     5.4     6.2     7.0     8.2     9.4    11.0    13.0    15.6    19.4    25.2    37.4   371.0\n",
            "Sunshine         0.0     0.0     0.0     0.0     0.2     0.3     0.6     0.8     1.0     1.3     1.5     1.8     2.0     2.3     2.5     2.7     3.0     3.2     3.4     3.7     3.9     4.1     4.3     4.5     4.7     4.8     5.0     5.2     5.4     5.5     5.7     5.9     6.0     6.2     6.3     6.5     6.6     6.8     6.9     7.1     7.2     7.3     7.5     7.6     7.7     7.9     8.0     8.1     8.2     8.3     8.4     8.6     8.7     8.8     8.9     9.0     9.1     9.2     9.3     9.3     9.4     9.5     9.6     9.7     9.8     9.9    10.0    10.0    10.1    10.2    10.3    10.3    10.4    10.5    10.6    10.6    10.7    10.8    10.9    10.9    11.0    11.1    11.1    11.2    11.3    11.4    11.5    11.7    11.8    11.9    12.1    12.2    12.4    12.5    12.7    12.8    13.0    13.1    13.2    13.4    14.5\n",
            "Temp3pm         -5.4     7.6     9.5    10.4    11.0    11.6    12.0    12.3    12.6    13.0    13.2    13.5    13.8    14.0    14.3    14.5    14.7    15.0    15.2    15.4    15.6    15.8    16.0    16.2    16.4    16.6    16.8    17.0    17.2    17.3    17.5    17.7    17.9    18.1    18.2    18.4    18.6    18.8    18.9    19.1    19.3    19.4    19.6    19.8    20.0    20.2    20.4    20.6    20.7    20.9    21.1    21.3    21.5    21.7    21.9    22.1    22.3    22.5    22.7    22.9    23.1    23.3    23.5    23.7    23.9    24.1    24.3    24.5    24.8    25.0    25.2    25.4    25.7    25.9    26.2    26.4    26.7    27.0    27.2    27.5    27.8    28.1    28.4    28.7    29.0    29.4    29.7    30.0    30.4    30.8    31.2    31.6    32.0    32.5    33.0    33.7    34.4    35.4    36.7    38.5    46.7\n",
            "Temp9am         -7.2     2.6     4.4     5.5     6.3     6.9     7.4     7.9     8.3     8.6     8.9     9.2     9.5     9.7    10.0    10.2    10.4    10.7    10.9    11.1    11.3    11.5    11.7    11.9    12.1    12.3    12.5    12.7    12.8    13.0    13.2    13.4    13.6    13.7    13.9    14.1    14.3    14.4    14.6    14.8    15.0    15.1    15.3    15.5    15.6    15.8    16.0    16.2    16.4    16.5    16.7    16.9    17.1    17.2    17.4    17.6    17.8    17.9    18.1    18.3    18.5    18.7    18.9    19.1    19.3    19.5    19.7    19.9    20.1    20.3    20.5    20.7    20.9    21.1    21.3    21.6    21.8    22.0    22.2    22.5    22.7    23.0    23.2    23.5    23.8    24.1    24.4    24.8    25.1    25.5    25.9    26.3    26.7    27.2    27.6    28.2    28.7    29.3    30.0    31.2    40.2\n",
            "WindGustSpeed    6.0    15.0    17.0    19.0    20.0    20.0    22.0    22.0    24.0    24.0    24.0    26.0    26.0    26.0    26.0    28.0    28.0    28.0    28.0    28.0    30.0    30.0    30.0    30.0    30.0    31.0    31.0    31.0    31.0    31.0    31.0    33.0    33.0    33.0    33.0    33.0    33.0    35.0    35.0    35.0    35.0    35.0    35.0    35.0    37.0    37.0    37.0    37.0    37.0    37.0    39.0    39.0    39.0    39.0    39.0    39.0    41.0    41.0    41.0    41.0    41.0    41.0    43.0    43.0    43.0    43.0    44.0    44.0    44.0    44.0    46.0    46.0    46.0    46.0    48.0    48.0    48.0    48.0    50.0    50.0    50.0    50.0    52.0    52.0    52.0    54.0    54.0    56.0    56.0    57.0    57.0    59.0    59.0    61.0    63.0    65.0    69.0    70.0    74.0    81.0   135.0\n",
            "WindSpeed3pm     0.0     2.0     4.0     4.0     6.0     6.0     7.0     7.0     7.0     7.0     9.0     9.0     9.0     9.0     9.0     9.0     9.0    11.0    11.0    11.0    11.0    11.0    11.0    11.0    13.0    13.0    13.0    13.0    13.0    13.0    13.0    13.0    13.0    15.0    15.0    15.0    15.0    15.0    15.0    15.0    15.0    17.0    17.0    17.0    17.0    17.0    17.0    17.0    17.0    17.0    19.0    19.0    19.0    19.0    19.0    19.0    19.0    19.0    20.0    20.0    20.0    20.0    20.0    20.0    20.0    20.0    22.0    22.0    22.0    22.0    22.0    22.0    24.0    24.0    24.0    24.0    24.0    24.0    24.0    26.0    26.0    26.0    26.0    28.0    28.0    28.0    28.0    28.0    30.0    30.0    30.0    31.0    31.0    31.0    33.0    35.0    35.0    37.0    39.0    43.0    87.0\n",
            "WindSpeed9am     0.0     0.0     0.0     0.0     0.0     0.0     0.0     2.0     2.0     2.0     4.0     4.0     4.0     4.0     6.0     6.0     6.0     6.0     6.0     6.0     6.0     7.0     7.0     7.0     7.0     7.0     7.0     7.0     9.0     9.0     9.0     9.0     9.0     9.0     9.0     9.0     9.0     9.0    11.0    11.0    11.0    11.0    11.0    11.0    11.0    11.0    13.0    13.0    13.0    13.0    13.0    13.0    13.0    13.0    13.0    15.0    15.0    15.0    15.0    15.0    15.0    15.0    17.0    17.0    17.0    17.0    17.0    17.0    17.0    17.0    19.0    19.0    19.0    19.0    19.0    19.0    20.0    20.0    20.0    20.0    20.0    22.0    22.0    22.0    22.0    24.0    24.0    24.0    24.0    26.0    26.0    26.0    28.0    28.0    30.0    30.0    31.0    33.0    35.0    39.0   130.0\n"
          ]
        }
      ],
      "source": [
        "# Create an empty DataFrame to store the results\n",
        "results = pd.DataFrame(columns=['Columna', 'Percentil', 'Valor'])\n",
        "\n",
        "# Iterate through the numeric columns\n",
        "for column in numericNames:\n",
        "    # Iterate through the values of i%\n",
        "    for i in np.arange(0, 1.01, 0.01):\n",
        "        # Calculate the i% percentile\n",
        "        percentil_value = data[column].quantile(i)\n",
        "        # Create a temporary DataFrame for the current result\n",
        "        temp_df = pd.DataFrame({'Columna': [column], 'Percentil': [i], 'Valor': [percentil_value]})\n",
        "        # Concatenate the temporary DataFrame to the results DataFrame\n",
        "        results = pd.concat([results, temp_df], ignore_index=True)\n",
        "\n",
        "# Reorganizar los datos utilizando la función pivot\n",
        "pivot_table = results.pivot(index='Columna', columns='Percentil', values='Valor')\n",
        "\n",
        "# Convertir la tabla pivot a una cadena en formato de tabla\n",
        "formatted_table = pivot_table.to_string()\n",
        "\n",
        "# Mostrar la tabla formateada\n",
        "print(formatted_table)\n",
        "\n"
      ]
    },
    {
      "cell_type": "code",
      "execution_count": null,
      "metadata": {},
      "outputs": [],
      "source": [
        "# To verify a specific column\n",
        "for i in np.arange(0, 1.01, 0.01):\n",
        "    print(i,\"%:\",data['Pressure3pm'].quantile(i))"
      ]
    },
    {
      "cell_type": "markdown",
      "metadata": {},
      "source": [
        "### cuartiles"
      ]
    },
    {
      "cell_type": "code",
      "execution_count": 191,
      "metadata": {},
      "outputs": [
        {
          "name": "stdout",
          "output_type": "stream",
          "text": [
            "Cuartil         0.00    0.25    0.50    0.75    1.00\n",
            "Columna                                             \n",
            "Cloud3pm         0.0     2.0     5.0     7.0     9.0\n",
            "Cloud9am         0.0     1.0     5.0     7.0     9.0\n",
            "Evaporation      0.0     2.6     4.8     7.4   145.0\n",
            "Humidity3pm      0.0    37.0    52.0    66.0   100.0\n",
            "Humidity9am      0.0    57.0    70.0    83.0   100.0\n",
            "MaxTemp         -4.8    17.9    22.6    28.2    48.1\n",
            "MinTemp         -8.5     7.6    12.0    16.9    33.9\n",
            "Pressure3pm    977.1  1010.4  1015.2  1020.0  1039.6\n",
            "Pressure9am    980.5  1012.9  1017.6  1022.4  1041.0\n",
            "Rainfall         0.0     0.0     0.0     0.8   371.0\n",
            "Sunshine         0.0     4.8     8.4    10.6    14.5\n",
            "Temp3pm         -5.4    16.6    21.1    26.4    46.7\n",
            "Temp9am         -7.2    12.3    16.7    21.6    40.2\n",
            "WindGustSpeed    6.0    31.0    39.0    48.0   135.0\n",
            "WindSpeed3pm     0.0    13.0    19.0    24.0    87.0\n",
            "WindSpeed9am     0.0     7.0    13.0    19.0   130.0\n"
          ]
        }
      ],
      "source": [
        "# Create an empty DataFrame to store the results\n",
        "results = pd.DataFrame(columns=['Columna', 'Cuartil', 'Valor'])\n",
        "\n",
        "# Iterate through the numeric columns\n",
        "for column in numericNames:\n",
        "    # Iterate through the values of i%\n",
        "    for i in np.arange(0, 1.25, 0.25):\n",
        "        # Calculate the i% cuantile\n",
        "        cuantile_value = data[column].quantile(i)\n",
        "        # Create a temporary DataFrame for the current result\n",
        "        temp_df = pd.DataFrame({'Columna': [column], 'Cuartil': [i], 'Valor': [cuantile_value]})\n",
        "        # Concatenate the temporary DataFrame to the results DataFrame\n",
        "        results = pd.concat([results, temp_df], ignore_index=True)\n",
        "\n",
        "# Reorganizar los datos utilizando la función pivot\n",
        "pivot_table = results.pivot(index='Columna', columns='Cuartil', values='Valor')\n",
        "\n",
        "# Convertir la tabla pivot a una cadena en formato de tabla\n",
        "formatted_table = pivot_table.to_string()\n",
        "\n",
        "# Mostrar la tabla formateada\n",
        "print(formatted_table)"
      ]
    },
    {
      "cell_type": "markdown",
      "metadata": {
        "id": "iIhYdpszTg0g"
      },
      "source": [
        "## 6. medidas de dispersión\n"
      ]
    },
    {
      "cell_type": "code",
      "execution_count": null,
      "metadata": {
        "id": "p9sZC6Y3Tg0g"
      },
      "outputs": [],
      "source": []
    },
    {
      "cell_type": "markdown",
      "metadata": {
        "id": "ZwNLkA8ATg0g"
      },
      "source": [
        "### 6.a ver el rango de las variables\n"
      ]
    },
    {
      "cell_type": "code",
      "execution_count": null,
      "metadata": {
        "id": "LixWyK56Tg0g"
      },
      "outputs": [],
      "source": []
    },
    {
      "cell_type": "markdown",
      "metadata": {
        "id": "eHp8Do13Tg0g"
      },
      "source": [
        "### 6.b desviación estandar de variables continuas\n"
      ]
    },
    {
      "cell_type": "code",
      "execution_count": null,
      "metadata": {
        "id": "Q5ThG2G2Tg0g"
      },
      "outputs": [],
      "source": []
    },
    {
      "cell_type": "markdown",
      "metadata": {
        "id": "AL3GRhhcTg0g"
      },
      "source": [
        "### 6.c desviación media absoluta de variables continuas"
      ]
    },
    {
      "cell_type": "code",
      "execution_count": null,
      "metadata": {
        "id": "34H50aAaTg0h"
      },
      "outputs": [],
      "source": []
    },
    {
      "cell_type": "markdown",
      "metadata": {
        "id": "EJr3pNBgTg0h"
      },
      "source": [
        "# Estadisticas multivariadas\n"
      ]
    },
    {
      "cell_type": "markdown",
      "metadata": {
        "id": "m-MfCvgsTg0h"
      },
      "source": [
        "## 7. ver covarianza de variables continuas ( matriz de covarianzas)"
      ]
    },
    {
      "cell_type": "markdown",
      "metadata": {
        "id": "H1LZNdnRTg0h"
      },
      "source": [
        "## 8. correlacion lineal o coefiente de correlación de Pearson"
      ]
    },
    {
      "cell_type": "code",
      "execution_count": 192,
      "metadata": {},
      "outputs": [
        {
          "data": {
            "text/html": [
              "<div>\n",
              "<style scoped>\n",
              "    .dataframe tbody tr th:only-of-type {\n",
              "        vertical-align: middle;\n",
              "    }\n",
              "\n",
              "    .dataframe tbody tr th {\n",
              "        vertical-align: top;\n",
              "    }\n",
              "\n",
              "    .dataframe thead th {\n",
              "        text-align: right;\n",
              "    }\n",
              "</style>\n",
              "<table border=\"1\" class=\"dataframe\">\n",
              "  <thead>\n",
              "    <tr style=\"text-align: right;\">\n",
              "      <th></th>\n",
              "      <th>MinTemp</th>\n",
              "      <th>MaxTemp</th>\n",
              "      <th>Rainfall</th>\n",
              "      <th>Evaporation</th>\n",
              "      <th>Sunshine</th>\n",
              "      <th>WindGustSpeed</th>\n",
              "      <th>WindSpeed9am</th>\n",
              "      <th>WindSpeed3pm</th>\n",
              "      <th>Humidity9am</th>\n",
              "      <th>Humidity3pm</th>\n",
              "      <th>Pressure9am</th>\n",
              "      <th>Pressure3pm</th>\n",
              "      <th>Cloud9am</th>\n",
              "      <th>Cloud3pm</th>\n",
              "      <th>Temp9am</th>\n",
              "      <th>Temp3pm</th>\n",
              "    </tr>\n",
              "  </thead>\n",
              "  <tbody>\n",
              "    <tr>\n",
              "      <th>MinTemp</th>\n",
              "      <td>1.000000</td>\n",
              "      <td>0.736555</td>\n",
              "      <td>0.103938</td>\n",
              "      <td>0.466993</td>\n",
              "      <td>0.072586</td>\n",
              "      <td>0.177415</td>\n",
              "      <td>0.175064</td>\n",
              "      <td>0.175173</td>\n",
              "      <td>-0.232899</td>\n",
              "      <td>0.006089</td>\n",
              "      <td>-0.450970</td>\n",
              "      <td>-0.461292</td>\n",
              "      <td>0.078754</td>\n",
              "      <td>0.021605</td>\n",
              "      <td>0.901821</td>\n",
              "      <td>0.708906</td>\n",
              "    </tr>\n",
              "    <tr>\n",
              "      <th>MaxTemp</th>\n",
              "      <td>0.736555</td>\n",
              "      <td>1.000000</td>\n",
              "      <td>-0.074992</td>\n",
              "      <td>0.587932</td>\n",
              "      <td>0.470156</td>\n",
              "      <td>0.067615</td>\n",
              "      <td>0.014450</td>\n",
              "      <td>0.050300</td>\n",
              "      <td>-0.504110</td>\n",
              "      <td>-0.508855</td>\n",
              "      <td>-0.332061</td>\n",
              "      <td>-0.427167</td>\n",
              "      <td>-0.289370</td>\n",
              "      <td>-0.277921</td>\n",
              "      <td>0.887210</td>\n",
              "      <td>0.984503</td>\n",
              "    </tr>\n",
              "    <tr>\n",
              "      <th>Rainfall</th>\n",
              "      <td>0.103938</td>\n",
              "      <td>-0.074992</td>\n",
              "      <td>1.000000</td>\n",
              "      <td>-0.064351</td>\n",
              "      <td>-0.227549</td>\n",
              "      <td>0.133659</td>\n",
              "      <td>0.087338</td>\n",
              "      <td>0.057887</td>\n",
              "      <td>0.224405</td>\n",
              "      <td>0.255755</td>\n",
              "      <td>-0.168154</td>\n",
              "      <td>-0.126534</td>\n",
              "      <td>0.198528</td>\n",
              "      <td>0.172403</td>\n",
              "      <td>0.011192</td>\n",
              "      <td>-0.079657</td>\n",
              "    </tr>\n",
              "    <tr>\n",
              "      <th>Evaporation</th>\n",
              "      <td>0.466993</td>\n",
              "      <td>0.587932</td>\n",
              "      <td>-0.064351</td>\n",
              "      <td>1.000000</td>\n",
              "      <td>0.365602</td>\n",
              "      <td>0.203021</td>\n",
              "      <td>0.193084</td>\n",
              "      <td>0.129400</td>\n",
              "      <td>-0.504092</td>\n",
              "      <td>-0.390243</td>\n",
              "      <td>-0.270362</td>\n",
              "      <td>-0.293581</td>\n",
              "      <td>-0.183793</td>\n",
              "      <td>-0.182618</td>\n",
              "      <td>0.545115</td>\n",
              "      <td>0.572893</td>\n",
              "    </tr>\n",
              "    <tr>\n",
              "      <th>Sunshine</th>\n",
              "      <td>0.072586</td>\n",
              "      <td>0.470156</td>\n",
              "      <td>-0.227549</td>\n",
              "      <td>0.365602</td>\n",
              "      <td>1.000000</td>\n",
              "      <td>-0.034750</td>\n",
              "      <td>0.005499</td>\n",
              "      <td>0.053834</td>\n",
              "      <td>-0.490819</td>\n",
              "      <td>-0.629130</td>\n",
              "      <td>0.041970</td>\n",
              "      <td>-0.019719</td>\n",
              "      <td>-0.675323</td>\n",
              "      <td>-0.703930</td>\n",
              "      <td>0.291188</td>\n",
              "      <td>0.490501</td>\n",
              "    </tr>\n",
              "    <tr>\n",
              "      <th>WindGustSpeed</th>\n",
              "      <td>0.177415</td>\n",
              "      <td>0.067615</td>\n",
              "      <td>0.133659</td>\n",
              "      <td>0.203021</td>\n",
              "      <td>-0.034750</td>\n",
              "      <td>1.000000</td>\n",
              "      <td>0.605303</td>\n",
              "      <td>0.686307</td>\n",
              "      <td>-0.215070</td>\n",
              "      <td>-0.026327</td>\n",
              "      <td>-0.458744</td>\n",
              "      <td>-0.413749</td>\n",
              "      <td>0.071736</td>\n",
              "      <td>0.109168</td>\n",
              "      <td>0.150150</td>\n",
              "      <td>0.032748</td>\n",
              "    </tr>\n",
              "    <tr>\n",
              "      <th>WindSpeed9am</th>\n",
              "      <td>0.175064</td>\n",
              "      <td>0.014450</td>\n",
              "      <td>0.087338</td>\n",
              "      <td>0.193084</td>\n",
              "      <td>0.005499</td>\n",
              "      <td>0.605303</td>\n",
              "      <td>1.000000</td>\n",
              "      <td>0.519547</td>\n",
              "      <td>-0.270858</td>\n",
              "      <td>-0.031614</td>\n",
              "      <td>-0.228743</td>\n",
              "      <td>-0.175817</td>\n",
              "      <td>0.025112</td>\n",
              "      <td>0.054639</td>\n",
              "      <td>0.128545</td>\n",
              "      <td>0.004569</td>\n",
              "    </tr>\n",
              "    <tr>\n",
              "      <th>WindSpeed3pm</th>\n",
              "      <td>0.175173</td>\n",
              "      <td>0.050300</td>\n",
              "      <td>0.057887</td>\n",
              "      <td>0.129400</td>\n",
              "      <td>0.053834</td>\n",
              "      <td>0.686307</td>\n",
              "      <td>0.519547</td>\n",
              "      <td>1.000000</td>\n",
              "      <td>-0.145525</td>\n",
              "      <td>0.016432</td>\n",
              "      <td>-0.296351</td>\n",
              "      <td>-0.255439</td>\n",
              "      <td>0.053337</td>\n",
              "      <td>0.025396</td>\n",
              "      <td>0.163030</td>\n",
              "      <td>0.027778</td>\n",
              "    </tr>\n",
              "    <tr>\n",
              "      <th>Humidity9am</th>\n",
              "      <td>-0.232899</td>\n",
              "      <td>-0.504110</td>\n",
              "      <td>0.224405</td>\n",
              "      <td>-0.504092</td>\n",
              "      <td>-0.490819</td>\n",
              "      <td>-0.215070</td>\n",
              "      <td>-0.270858</td>\n",
              "      <td>-0.145525</td>\n",
              "      <td>1.000000</td>\n",
              "      <td>0.666949</td>\n",
              "      <td>0.139442</td>\n",
              "      <td>0.186858</td>\n",
              "      <td>0.452297</td>\n",
              "      <td>0.357326</td>\n",
              "      <td>-0.471354</td>\n",
              "      <td>-0.498399</td>\n",
              "    </tr>\n",
              "    <tr>\n",
              "      <th>Humidity3pm</th>\n",
              "      <td>0.006089</td>\n",
              "      <td>-0.508855</td>\n",
              "      <td>0.255755</td>\n",
              "      <td>-0.390243</td>\n",
              "      <td>-0.629130</td>\n",
              "      <td>-0.026327</td>\n",
              "      <td>-0.031614</td>\n",
              "      <td>0.016432</td>\n",
              "      <td>0.666949</td>\n",
              "      <td>1.000000</td>\n",
              "      <td>-0.027544</td>\n",
              "      <td>0.051997</td>\n",
              "      <td>0.517120</td>\n",
              "      <td>0.523120</td>\n",
              "      <td>-0.221019</td>\n",
              "      <td>-0.557841</td>\n",
              "    </tr>\n",
              "    <tr>\n",
              "      <th>Pressure9am</th>\n",
              "      <td>-0.450970</td>\n",
              "      <td>-0.332061</td>\n",
              "      <td>-0.168154</td>\n",
              "      <td>-0.270362</td>\n",
              "      <td>0.041970</td>\n",
              "      <td>-0.458744</td>\n",
              "      <td>-0.228743</td>\n",
              "      <td>-0.296351</td>\n",
              "      <td>0.139442</td>\n",
              "      <td>-0.027544</td>\n",
              "      <td>1.000000</td>\n",
              "      <td>0.961326</td>\n",
              "      <td>-0.129796</td>\n",
              "      <td>-0.147861</td>\n",
              "      <td>-0.422556</td>\n",
              "      <td>-0.286770</td>\n",
              "    </tr>\n",
              "    <tr>\n",
              "      <th>Pressure3pm</th>\n",
              "      <td>-0.461292</td>\n",
              "      <td>-0.427167</td>\n",
              "      <td>-0.126534</td>\n",
              "      <td>-0.293581</td>\n",
              "      <td>-0.019719</td>\n",
              "      <td>-0.413749</td>\n",
              "      <td>-0.175817</td>\n",
              "      <td>-0.255439</td>\n",
              "      <td>0.186858</td>\n",
              "      <td>0.051997</td>\n",
              "      <td>0.961326</td>\n",
              "      <td>1.000000</td>\n",
              "      <td>-0.060772</td>\n",
              "      <td>-0.084778</td>\n",
              "      <td>-0.470187</td>\n",
              "      <td>-0.389548</td>\n",
              "    </tr>\n",
              "    <tr>\n",
              "      <th>Cloud9am</th>\n",
              "      <td>0.078754</td>\n",
              "      <td>-0.289370</td>\n",
              "      <td>0.198528</td>\n",
              "      <td>-0.183793</td>\n",
              "      <td>-0.675323</td>\n",
              "      <td>0.071736</td>\n",
              "      <td>0.025112</td>\n",
              "      <td>0.053337</td>\n",
              "      <td>0.452297</td>\n",
              "      <td>0.517120</td>\n",
              "      <td>-0.129796</td>\n",
              "      <td>-0.060772</td>\n",
              "      <td>1.000000</td>\n",
              "      <td>0.603564</td>\n",
              "      <td>-0.136959</td>\n",
              "      <td>-0.302060</td>\n",
              "    </tr>\n",
              "    <tr>\n",
              "      <th>Cloud3pm</th>\n",
              "      <td>0.021605</td>\n",
              "      <td>-0.277921</td>\n",
              "      <td>0.172403</td>\n",
              "      <td>-0.182618</td>\n",
              "      <td>-0.703930</td>\n",
              "      <td>0.109168</td>\n",
              "      <td>0.054639</td>\n",
              "      <td>0.025396</td>\n",
              "      <td>0.357326</td>\n",
              "      <td>0.523120</td>\n",
              "      <td>-0.147861</td>\n",
              "      <td>-0.084778</td>\n",
              "      <td>0.603564</td>\n",
              "      <td>1.000000</td>\n",
              "      <td>-0.126659</td>\n",
              "      <td>-0.317420</td>\n",
              "    </tr>\n",
              "    <tr>\n",
              "      <th>Temp9am</th>\n",
              "      <td>0.901821</td>\n",
              "      <td>0.887210</td>\n",
              "      <td>0.011192</td>\n",
              "      <td>0.545115</td>\n",
              "      <td>0.291188</td>\n",
              "      <td>0.150150</td>\n",
              "      <td>0.128545</td>\n",
              "      <td>0.163030</td>\n",
              "      <td>-0.471354</td>\n",
              "      <td>-0.221019</td>\n",
              "      <td>-0.422556</td>\n",
              "      <td>-0.470187</td>\n",
              "      <td>-0.136959</td>\n",
              "      <td>-0.126659</td>\n",
              "      <td>1.000000</td>\n",
              "      <td>0.860591</td>\n",
              "    </tr>\n",
              "    <tr>\n",
              "      <th>Temp3pm</th>\n",
              "      <td>0.708906</td>\n",
              "      <td>0.984503</td>\n",
              "      <td>-0.079657</td>\n",
              "      <td>0.572893</td>\n",
              "      <td>0.490501</td>\n",
              "      <td>0.032748</td>\n",
              "      <td>0.004569</td>\n",
              "      <td>0.027778</td>\n",
              "      <td>-0.498399</td>\n",
              "      <td>-0.557841</td>\n",
              "      <td>-0.286770</td>\n",
              "      <td>-0.389548</td>\n",
              "      <td>-0.302060</td>\n",
              "      <td>-0.317420</td>\n",
              "      <td>0.860591</td>\n",
              "      <td>1.000000</td>\n",
              "    </tr>\n",
              "  </tbody>\n",
              "</table>\n",
              "</div>"
            ],
            "text/plain": [
              "                MinTemp   MaxTemp  Rainfall  Evaporation  Sunshine  \\\n",
              "MinTemp        1.000000  0.736555  0.103938     0.466993  0.072586   \n",
              "MaxTemp        0.736555  1.000000 -0.074992     0.587932  0.470156   \n",
              "Rainfall       0.103938 -0.074992  1.000000    -0.064351 -0.227549   \n",
              "Evaporation    0.466993  0.587932 -0.064351     1.000000  0.365602   \n",
              "Sunshine       0.072586  0.470156 -0.227549     0.365602  1.000000   \n",
              "WindGustSpeed  0.177415  0.067615  0.133659     0.203021 -0.034750   \n",
              "WindSpeed9am   0.175064  0.014450  0.087338     0.193084  0.005499   \n",
              "WindSpeed3pm   0.175173  0.050300  0.057887     0.129400  0.053834   \n",
              "Humidity9am   -0.232899 -0.504110  0.224405    -0.504092 -0.490819   \n",
              "Humidity3pm    0.006089 -0.508855  0.255755    -0.390243 -0.629130   \n",
              "Pressure9am   -0.450970 -0.332061 -0.168154    -0.270362  0.041970   \n",
              "Pressure3pm   -0.461292 -0.427167 -0.126534    -0.293581 -0.019719   \n",
              "Cloud9am       0.078754 -0.289370  0.198528    -0.183793 -0.675323   \n",
              "Cloud3pm       0.021605 -0.277921  0.172403    -0.182618 -0.703930   \n",
              "Temp9am        0.901821  0.887210  0.011192     0.545115  0.291188   \n",
              "Temp3pm        0.708906  0.984503 -0.079657     0.572893  0.490501   \n",
              "\n",
              "               WindGustSpeed  WindSpeed9am  WindSpeed3pm  Humidity9am  \\\n",
              "MinTemp             0.177415      0.175064      0.175173    -0.232899   \n",
              "MaxTemp             0.067615      0.014450      0.050300    -0.504110   \n",
              "Rainfall            0.133659      0.087338      0.057887     0.224405   \n",
              "Evaporation         0.203021      0.193084      0.129400    -0.504092   \n",
              "Sunshine           -0.034750      0.005499      0.053834    -0.490819   \n",
              "WindGustSpeed       1.000000      0.605303      0.686307    -0.215070   \n",
              "WindSpeed9am        0.605303      1.000000      0.519547    -0.270858   \n",
              "WindSpeed3pm        0.686307      0.519547      1.000000    -0.145525   \n",
              "Humidity9am        -0.215070     -0.270858     -0.145525     1.000000   \n",
              "Humidity3pm        -0.026327     -0.031614      0.016432     0.666949   \n",
              "Pressure9am        -0.458744     -0.228743     -0.296351     0.139442   \n",
              "Pressure3pm        -0.413749     -0.175817     -0.255439     0.186858   \n",
              "Cloud9am            0.071736      0.025112      0.053337     0.452297   \n",
              "Cloud3pm            0.109168      0.054639      0.025396     0.357326   \n",
              "Temp9am             0.150150      0.128545      0.163030    -0.471354   \n",
              "Temp3pm             0.032748      0.004569      0.027778    -0.498399   \n",
              "\n",
              "               Humidity3pm  Pressure9am  Pressure3pm  Cloud9am  Cloud3pm  \\\n",
              "MinTemp           0.006089    -0.450970    -0.461292  0.078754  0.021605   \n",
              "MaxTemp          -0.508855    -0.332061    -0.427167 -0.289370 -0.277921   \n",
              "Rainfall          0.255755    -0.168154    -0.126534  0.198528  0.172403   \n",
              "Evaporation      -0.390243    -0.270362    -0.293581 -0.183793 -0.182618   \n",
              "Sunshine         -0.629130     0.041970    -0.019719 -0.675323 -0.703930   \n",
              "WindGustSpeed    -0.026327    -0.458744    -0.413749  0.071736  0.109168   \n",
              "WindSpeed9am     -0.031614    -0.228743    -0.175817  0.025112  0.054639   \n",
              "WindSpeed3pm      0.016432    -0.296351    -0.255439  0.053337  0.025396   \n",
              "Humidity9am       0.666949     0.139442     0.186858  0.452297  0.357326   \n",
              "Humidity3pm       1.000000    -0.027544     0.051997  0.517120  0.523120   \n",
              "Pressure9am      -0.027544     1.000000     0.961326 -0.129796 -0.147861   \n",
              "Pressure3pm       0.051997     0.961326     1.000000 -0.060772 -0.084778   \n",
              "Cloud9am          0.517120    -0.129796    -0.060772  1.000000  0.603564   \n",
              "Cloud3pm          0.523120    -0.147861    -0.084778  0.603564  1.000000   \n",
              "Temp9am          -0.221019    -0.422556    -0.470187 -0.136959 -0.126659   \n",
              "Temp3pm          -0.557841    -0.286770    -0.389548 -0.302060 -0.317420   \n",
              "\n",
              "                Temp9am   Temp3pm  \n",
              "MinTemp        0.901821  0.708906  \n",
              "MaxTemp        0.887210  0.984503  \n",
              "Rainfall       0.011192 -0.079657  \n",
              "Evaporation    0.545115  0.572893  \n",
              "Sunshine       0.291188  0.490501  \n",
              "WindGustSpeed  0.150150  0.032748  \n",
              "WindSpeed9am   0.128545  0.004569  \n",
              "WindSpeed3pm   0.163030  0.027778  \n",
              "Humidity9am   -0.471354 -0.498399  \n",
              "Humidity3pm   -0.221019 -0.557841  \n",
              "Pressure9am   -0.422556 -0.286770  \n",
              "Pressure3pm   -0.470187 -0.389548  \n",
              "Cloud9am      -0.136959 -0.302060  \n",
              "Cloud3pm      -0.126659 -0.317420  \n",
              "Temp9am        1.000000  0.860591  \n",
              "Temp3pm        0.860591  1.000000  "
            ]
          },
          "execution_count": 192,
          "metadata": {},
          "output_type": "execute_result"
        }
      ],
      "source": [
        "data.corr()\n"
      ]
    },
    {
      "cell_type": "markdown",
      "metadata": {},
      "source": [
        "### Análisis\n",
        "\n",
        "Leyendo los datos de la tabla, podemos observar que:\n",
        "\n",
        "**Variables que se correlacionan positivamente:**\n",
        "\n",
        "*   MaxTemp y Temp3pm: 0.984503\n",
        "*   Pressure9am y Pressure3pm: 0.961326\n",
        "*   MinTemp y Temp9am: 0.901821\n",
        "*   MaxTemp y Temp9am: 0.887210\n",
        "*   Temp9am y Temp3pm: 0.860591\n",
        "*   MinTemp y MaxTemp: 0.736555\n",
        "*   MinTemp y Temp3pm: 0.708906\n",
        "*   WindGustSpeed y WindSpeed3pm: 0.686307\n",
        "*   Humidity9am y Humidity3pm: 0.666949\n",
        "*   WindGustSpeed y WindSpeed9am: 0.605303\n",
        "*   Cloud9am y Cloud3pm: 0.603564\n",
        "*   MaxTemp y Evaporation: 0.587932\n",
        "*   Evaporation y Temp3pm: 0.572893\n",
        "*   Evaporation y Temp9am: 0.545115\n",
        "*   WindSpeed9am y WindSpeed3pm: 0.519547\n",
        "*   MaxTemp y Sunshine: 0.470156\n",
        "*   MinTemp y Evaporation: 0.466993\n",
        "*   Evaporation y Sunshine: 0.365602\n",
        "*   Rainfall y Humidity3pm: 0.255755\n",
        "*   MinTemp y WindGustSpeed: 0.177415\n",
        "*   MinTemp y WindSpeed3pm: 0.175173\n",
        "*   MinTemp y WindSpeed9am: 0.175064\n",
        "*   WindSpeed3pm y Temp9am: 0.163030\n",
        "*   WindGustSpeed y Temp9am: 0.150150\n",
        "*   Rainfall y WindGustSpeed: 0.133659\n",
        "*   WindSpeed9am y Temp9am: 0.128545\n",
        "*   Rainfall y WindSpeed9am: 0.087338\n",
        "*   MinTemp y Cloud9am: 0.078754\n",
        "*   Rainfall y WindSpeed3pm: 0.057887\n",
        "*   Sunshine y WindSpeed3pm: 0.053834\n",
        "*   MinTemp y Cloud3pm: 0.021605\n",
        "\n",
        "\n",
        "**Variables que se correlacionan negativamente:**\n",
        "\n",
        "*   Sunshine y Pressure3pm: -0.019719\n",
        "*   Humidity9am y Pressure3pm: -0.027544\n",
        "*   Pressure9am y Cloud3pm: -0.060772\n",
        "*   Rainfall y Evaporation: -0.064351\n",
        "*   MaxTemp y Rainfall: -0.074992\n",
        "*   Pressure3pm y Cloud3pm: -0.084778\n",
        "*   Rainfall y Pressure3pm: -0.126534\n",
        "*   Temp3pm y Cloud9am: -0.126659\n",
        "*   Pressure9am y Cloud9am: -0.129796\n",
        "*   Temp9am y Cloud9am: -0.136959\n",
        "*   WindSpeed3pm y Humidity9am: -0.145525\n",
        "*   Pressure3pm y Cloud9am: -0.147861\n",
        "*   Rainfall y Pressure9am: -0.168154\n",
        "*   WindSpeed9am y Pressure3pm: -0.175817\n",
        "*   Evaporation y Cloud3pm: -0.182618\n",
        "*   Evaporation y Cloud9am: -0.183793\n",
        "*   WindGustSpeed y Humidity9am: -0.215070\n",
        "*   Temp3pm y Humidity9am: -0.221019\n",
        "*   Rainfall y Sunshine: -0.227549\n",
        "*   WindSpeed9am y Pressure9am: -0.228743\n",
        "*   MinTemp y Humidity9am: -0.232899\n",
        "*   WindSpeed3pm y Pressure3pm: -0.255439\n",
        "*   Evaporation y Pressure9am: -0.270362\n",
        "*   WindSpeed9am y Humidity9am: -0.270858\n",
        "*   Temp3pm y Pressure9am: -0.286770\n",
        "*   Evaporation y Pressure3pm: -0.293581\n",
        "*   WindSpeed3pm y Pressure9am: -0.296351\n",
        "*   Temp9am y Cloud3pm: -0.302060\n",
        "*   Temp3pm y Cloud3pm: -0.317420\n",
        "*   MaxTemp y Pressure9am: -0.332061\n",
        "*   Temp3pm y Pressure3pm: -0.389548\n",
        "*   Evaporation y Humidity3pm: -0.390243\n",
        "*   WindGustSpeed y Pressure3pm: -0.413749\n",
        "*   Temp9am y Pressure9am: -0.422556\n",
        "*   MaxTemp y Pressure3pm: -0.427167\n",
        "*   MinTemp y Pressure9am: -0.450970\n",
        "*   WindGustSpeed y Pressure9am: -0.458744\n",
        "*   MinTemp y Pressure3pm: -0.461292\n",
        "*   Temp9am y Pressure3pm: -0.470187\n",
        "*   Temp9am y Humidity9am: -0.471354\n",
        "*   Sunshine y Humidity9am: -0.490819\n",
        "*   Temp9am y Humidity3pm: -0.498399\n",
        "*   Evaporation y Humidity9am: -0.504092\n",
        "*   MaxTemp y Humidity9am: -0.504110\n",
        "*   MaxTemp y Humidity3pm: -0.508855\n",
        "*   Temp3pm y Humidity3pm: -0.557841\n",
        "*   Sunshine y Humidity3pm: -0.629130\n",
        "*   Cloud3pm y Sunshine: -0.703930\n",
        "\n",
        "\n",
        "\n",
        "**Temperatura (MinTemp, MaxTemp, Temp9am, Temp3pm):** Hay fuertes correlaciones positivas entre estas variables. Por ejemplo, la temperatura mínima (MinTemp) está altamente correlacionada con la temperatura máxima (MaxTemp), la temperatura a las 9 a.m. (Temp9am) y la temperatura a las 3 p.m. (Temp3pm). Esto es de esperar, ya que estas variables están relacionadas directamente con la temperatura.\n",
        "\n",
        "**Humedad (Humidity9am, Humidity3pm):** La humedad a las 9 a.m. y a las 3 p.m. también muestra una correlación positiva significativa entre sí. Esto sugiere que la humedad tiende a mantenerse relativamente consistente durante el día.\n",
        "\n",
        "**Presión (Pressure9am, Pressure3pm):** La presión a las 9 a.m. y a las 3 p.m. también está altamente correlacionada. Esto sugiere que la presión atmosférica tiende a mantenerse constante durante el día.\n",
        "\n",
        "**Viento (WindGustSpeed, WindSpeed9am, WindSpeed3pm):** Las velocidades del viento a diferentes momentos del día están moderadamente correlacionadas entre sí, lo que indica una cierta consistencia en las condiciones del viento a lo largo del día.\n",
        "\n",
        "**Lluvia (Rainfall):** La cantidad de lluvia no muestra fuertes correlaciones con otras variables, lo que puede ser esperado, ya que la lluvia es un evento climático relativamente independiente de otras condiciones.\n",
        "\n",
        "**Nubosidad (Cloud9am, Cloud3pm):** La nubosidad a las 9 a.m. y a las 3 p.m. está correlacionada positivamente, pero no de manera muy fuerte. Esto sugiere cierta consistencia en las condiciones de nubosidad, pero con variabilidad.\n",
        "\n",
        "**Brillo solar (Sunshine):** El brillo solar muestra una correlación negativa significativa con la humedad y la nubosidad a las 9 a.m. y a las 3 p.m. Esto indica que días más soleados tienden a tener menos nubosidad y humedad."
      ]
    },
    {
      "cell_type": "markdown",
      "metadata": {
        "id": "BVI4T0cyTg0h"
      },
      "source": [
        "# Gráficos"
      ]
    },
    {
      "cell_type": "markdown",
      "metadata": {
        "id": "GkSXZmjcTg0h"
      },
      "source": [
        "## 9. hacer histogramas de las variables, pueden ser todas, o tal vez las mas relevantes."
      ]
    },
    {
      "cell_type": "markdown",
      "metadata": {
        "id": "6w7kpoTWTg0h"
      },
      "source": []
    },
    {
      "cell_type": "markdown",
      "metadata": {
        "id": "FnHtFnEsTg0h"
      },
      "source": [
        "## 10. hacer graficos de estimacion de densidad"
      ]
    },
    {
      "cell_type": "markdown",
      "metadata": {
        "id": "FJqrw6jqTg0h"
      },
      "source": [
        "# 11. Diagramas de caja"
      ]
    },
    {
      "cell_type": "markdown",
      "metadata": {
        "id": "7QCq3rd4Tg0h"
      },
      "source": [
        "## 12. Diagramas de dispersión"
      ]
    },
    {
      "cell_type": "markdown",
      "metadata": {
        "id": "j0S-xeRjTg0h"
      },
      "source": [
        "## 13. Coordenadas Paralelas"
      ]
    },
    {
      "cell_type": "markdown",
      "metadata": {
        "id": "k3L6sMQXTg0i"
      },
      "source": [
        "# 14. Diagramas de estrella"
      ]
    },
    {
      "cell_type": "markdown",
      "metadata": {
        "id": "kwB-eI8NTg0i"
      },
      "source": [
        "## 15. Caras de Chernoff"
      ]
    },
    {
      "cell_type": "markdown",
      "metadata": {
        "id": "OSfQykFwTg0i"
      },
      "source": []
    }
  ],
  "metadata": {
    "colab": {
      "include_colab_link": true,
      "provenance": []
    },
    "kernelspec": {
      "display_name": "Python 3",
      "name": "python3"
    },
    "language_info": {
      "codemirror_mode": {
        "name": "ipython",
        "version": 3
      },
      "file_extension": ".py",
      "mimetype": "text/x-python",
      "name": "python",
      "nbconvert_exporter": "python",
      "pygments_lexer": "ipython3",
      "version": "3.10.5"
    },
    "orig_nbformat": 4
  },
  "nbformat": 4,
  "nbformat_minor": 0
}
