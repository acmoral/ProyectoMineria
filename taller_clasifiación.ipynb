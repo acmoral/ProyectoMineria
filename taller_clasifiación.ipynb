{
 "cells": [
  {
   "cell_type": "code",
   "execution_count": 47,
   "metadata": {},
   "outputs": [],
   "source": [
    "from sklearn.model_selection import train_test_split\n",
    "import pandas as pd\n",
    "from sklearn.naive_bayes import GaussianNB\n",
    "from sklearn.metrics import recall_score, ConfusionMatrixDisplay, precision_score , confusion_matrix\n",
    "import matplotlib.pyplot as plt\n",
    "from sklearn.model_selection import train_test_split\n",
    "from sklearn.metrics import confusion_matrix, precision_score, recall_score, f1_score, accuracy_score, cohen_kappa_score\n",
    "from sklearn.naive_bayes import GaussianNB\n",
    "from sklearn.model_selection import cross_val_score\n",
    "from sklearn.naive_bayes import GaussianNB\n",
    "from sklearn.preprocessing import LabelEncoder\n",
    "from sklearn.tree import DecisionTreeClassifier\n",
    "\n",
    "\n",
    "import warnings\n",
    "warnings.filterwarnings('ignore')"
   ]
  },
  {
   "cell_type": "markdown",
   "metadata": {},
   "source": [
    "# Naive Bayes"
   ]
  },
  {
   "cell_type": "code",
   "execution_count": 25,
   "metadata": {},
   "outputs": [
    {
     "data": {
      "text/html": [
       "<div>\n",
       "<style scoped>\n",
       "    .dataframe tbody tr th:only-of-type {\n",
       "        vertical-align: middle;\n",
       "    }\n",
       "\n",
       "    .dataframe tbody tr th {\n",
       "        vertical-align: top;\n",
       "    }\n",
       "\n",
       "    .dataframe thead th {\n",
       "        text-align: right;\n",
       "    }\n",
       "</style>\n",
       "<table border=\"1\" class=\"dataframe\">\n",
       "  <thead>\n",
       "    <tr style=\"text-align: right;\">\n",
       "      <th></th>\n",
       "      <th>sepal_length</th>\n",
       "      <th>sepal_width</th>\n",
       "      <th>petal_length</th>\n",
       "      <th>petal width</th>\n",
       "      <th>class</th>\n",
       "    </tr>\n",
       "  </thead>\n",
       "  <tbody>\n",
       "    <tr>\n",
       "      <th>0</th>\n",
       "      <td>5.1</td>\n",
       "      <td>3.5</td>\n",
       "      <td>1.4</td>\n",
       "      <td>0.2</td>\n",
       "      <td>0</td>\n",
       "    </tr>\n",
       "    <tr>\n",
       "      <th>1</th>\n",
       "      <td>4.9</td>\n",
       "      <td>3.0</td>\n",
       "      <td>1.4</td>\n",
       "      <td>0.2</td>\n",
       "      <td>0</td>\n",
       "    </tr>\n",
       "    <tr>\n",
       "      <th>2</th>\n",
       "      <td>4.7</td>\n",
       "      <td>3.2</td>\n",
       "      <td>1.3</td>\n",
       "      <td>0.2</td>\n",
       "      <td>0</td>\n",
       "    </tr>\n",
       "    <tr>\n",
       "      <th>3</th>\n",
       "      <td>4.6</td>\n",
       "      <td>3.1</td>\n",
       "      <td>1.5</td>\n",
       "      <td>0.2</td>\n",
       "      <td>0</td>\n",
       "    </tr>\n",
       "    <tr>\n",
       "      <th>4</th>\n",
       "      <td>5.0</td>\n",
       "      <td>3.6</td>\n",
       "      <td>1.4</td>\n",
       "      <td>0.2</td>\n",
       "      <td>0</td>\n",
       "    </tr>\n",
       "  </tbody>\n",
       "</table>\n",
       "</div>"
      ],
      "text/plain": [
       "   sepal_length   sepal_width   petal_length   petal width  class\n",
       "0           5.1           3.5            1.4           0.2      0\n",
       "1           4.9           3.0            1.4           0.2      0\n",
       "2           4.7           3.2            1.3           0.2      0\n",
       "3           4.6           3.1            1.5           0.2      0\n",
       "4           5.0           3.6            1.4           0.2      0"
      ]
     },
     "execution_count": 25,
     "metadata": {},
     "output_type": "execute_result"
    }
   ],
   "source": [
    "from sklearn.datasets import load_iris\n",
    "\n",
    "# Cargar el conjunto de datos Iris\n",
    "iris = load_iris()\n",
    "\n",
    "# Crear un DataFrame con las características y etiquetas\n",
    "df = pd.DataFrame(data=iris.data, columns=['sepal_length', ' sepal_width', ' petal_length', ' petal width'])\n",
    "df['class'] = iris.target  # Agregar la columna de etiquetas al DataFrame\n",
    "\n",
    "df.head()"
   ]
  },
  {
   "cell_type": "code",
   "execution_count": 26,
   "metadata": {},
   "outputs": [],
   "source": [
    "# Separar el conjunto de caracteristicas 'X' y la variable objetivo 'Y'\n",
    "attributes = df.drop(['class'], axis=1)\n",
    "target = df['class']"
   ]
  },
  {
   "cell_type": "code",
   "execution_count": 27,
   "metadata": {},
   "outputs": [
    {
     "name": "stdout",
     "output_type": "stream",
     "text": [
      "tamaño de los datos\n",
      "train:  105\n",
      "test:  45\n",
      "total:  150\n"
     ]
    }
   ],
   "source": [
    "X_train, X_test = train_test_split(df, test_size=0.3, random_state=6)\n",
    "Y_train = X_train['class']\n",
    "y_test = X_test['class']\n",
    "\n",
    "print('tamaño de los datos')\n",
    "print('train: ', X_train.shape[0])\n",
    "print('test: ', X_test.shape[0])\n",
    "print('total: ', X_train.shape[0] + X_test.shape[0])"
   ]
  },
  {
   "cell_type": "code",
   "execution_count": 28,
   "metadata": {},
   "outputs": [
    {
     "data": {
      "text/html": [
       "<style>#sk-container-id-3 {color: black;background-color: white;}#sk-container-id-3 pre{padding: 0;}#sk-container-id-3 div.sk-toggleable {background-color: white;}#sk-container-id-3 label.sk-toggleable__label {cursor: pointer;display: block;width: 100%;margin-bottom: 0;padding: 0.3em;box-sizing: border-box;text-align: center;}#sk-container-id-3 label.sk-toggleable__label-arrow:before {content: \"▸\";float: left;margin-right: 0.25em;color: #696969;}#sk-container-id-3 label.sk-toggleable__label-arrow:hover:before {color: black;}#sk-container-id-3 div.sk-estimator:hover label.sk-toggleable__label-arrow:before {color: black;}#sk-container-id-3 div.sk-toggleable__content {max-height: 0;max-width: 0;overflow: hidden;text-align: left;background-color: #f0f8ff;}#sk-container-id-3 div.sk-toggleable__content pre {margin: 0.2em;color: black;border-radius: 0.25em;background-color: #f0f8ff;}#sk-container-id-3 input.sk-toggleable__control:checked~div.sk-toggleable__content {max-height: 200px;max-width: 100%;overflow: auto;}#sk-container-id-3 input.sk-toggleable__control:checked~label.sk-toggleable__label-arrow:before {content: \"▾\";}#sk-container-id-3 div.sk-estimator input.sk-toggleable__control:checked~label.sk-toggleable__label {background-color: #d4ebff;}#sk-container-id-3 div.sk-label input.sk-toggleable__control:checked~label.sk-toggleable__label {background-color: #d4ebff;}#sk-container-id-3 input.sk-hidden--visually {border: 0;clip: rect(1px 1px 1px 1px);clip: rect(1px, 1px, 1px, 1px);height: 1px;margin: -1px;overflow: hidden;padding: 0;position: absolute;width: 1px;}#sk-container-id-3 div.sk-estimator {font-family: monospace;background-color: #f0f8ff;border: 1px dotted black;border-radius: 0.25em;box-sizing: border-box;margin-bottom: 0.5em;}#sk-container-id-3 div.sk-estimator:hover {background-color: #d4ebff;}#sk-container-id-3 div.sk-parallel-item::after {content: \"\";width: 100%;border-bottom: 1px solid gray;flex-grow: 1;}#sk-container-id-3 div.sk-label:hover label.sk-toggleable__label {background-color: #d4ebff;}#sk-container-id-3 div.sk-serial::before {content: \"\";position: absolute;border-left: 1px solid gray;box-sizing: border-box;top: 0;bottom: 0;left: 50%;z-index: 0;}#sk-container-id-3 div.sk-serial {display: flex;flex-direction: column;align-items: center;background-color: white;padding-right: 0.2em;padding-left: 0.2em;position: relative;}#sk-container-id-3 div.sk-item {position: relative;z-index: 1;}#sk-container-id-3 div.sk-parallel {display: flex;align-items: stretch;justify-content: center;background-color: white;position: relative;}#sk-container-id-3 div.sk-item::before, #sk-container-id-3 div.sk-parallel-item::before {content: \"\";position: absolute;border-left: 1px solid gray;box-sizing: border-box;top: 0;bottom: 0;left: 50%;z-index: -1;}#sk-container-id-3 div.sk-parallel-item {display: flex;flex-direction: column;z-index: 1;position: relative;background-color: white;}#sk-container-id-3 div.sk-parallel-item:first-child::after {align-self: flex-end;width: 50%;}#sk-container-id-3 div.sk-parallel-item:last-child::after {align-self: flex-start;width: 50%;}#sk-container-id-3 div.sk-parallel-item:only-child::after {width: 0;}#sk-container-id-3 div.sk-dashed-wrapped {border: 1px dashed gray;margin: 0 0.4em 0.5em 0.4em;box-sizing: border-box;padding-bottom: 0.4em;background-color: white;}#sk-container-id-3 div.sk-label label {font-family: monospace;font-weight: bold;display: inline-block;line-height: 1.2em;}#sk-container-id-3 div.sk-label-container {text-align: center;}#sk-container-id-3 div.sk-container {/* jupyter's `normalize.less` sets `[hidden] { display: none; }` but bootstrap.min.css set `[hidden] { display: none !important; }` so we also need the `!important` here to be able to override the default hidden behavior on the sphinx rendered scikit-learn.org. See: https://github.com/scikit-learn/scikit-learn/issues/21755 */display: inline-block !important;position: relative;}#sk-container-id-3 div.sk-text-repr-fallback {display: none;}</style><div id=\"sk-container-id-3\" class=\"sk-top-container\"><div class=\"sk-text-repr-fallback\"><pre>GaussianNB()</pre><b>In a Jupyter environment, please rerun this cell to show the HTML representation or trust the notebook. <br />On GitHub, the HTML representation is unable to render, please try loading this page with nbviewer.org.</b></div><div class=\"sk-container\" hidden><div class=\"sk-item\"><div class=\"sk-estimator sk-toggleable\"><input class=\"sk-toggleable__control sk-hidden--visually\" id=\"sk-estimator-id-3\" type=\"checkbox\" checked><label for=\"sk-estimator-id-3\" class=\"sk-toggleable__label sk-toggleable__label-arrow\">GaussianNB</label><div class=\"sk-toggleable__content\"><pre>GaussianNB()</pre></div></div></div></div></div>"
      ],
      "text/plain": [
       "GaussianNB()"
      ]
     },
     "execution_count": 28,
     "metadata": {},
     "output_type": "execute_result"
    }
   ],
   "source": [
    "#Entrenar el modelo\n",
    "gnb = GaussianNB()\n",
    "# Train classifier\n",
    "gnb.fit(\n",
    "    X_train.values,\n",
    "    Y_train\n",
    ")"
   ]
  },
  {
   "cell_type": "code",
   "execution_count": 29,
   "metadata": {},
   "outputs": [],
   "source": [
    "#Aplicar modelo a los datos de test\n",
    "y_pred = gnb.predict(X_test)"
   ]
  },
  {
   "cell_type": "code",
   "execution_count": 30,
   "metadata": {},
   "outputs": [
    {
     "data": {
      "image/png": "[encoded data removed]",
      "text/plain": [
       "<Figure size 432x288 with 2 Axes>"
      ]
     },
     "metadata": {
      "needs_background": "light"
     },
     "output_type": "display_data"
    }
   ],
   "source": [
    "# Calcular la matriz de confusión\n",
    "conf_matrix = confusion_matrix(y_test, y_pred)\n",
    "\n",
    "# Mostrar la matriz de confusión utilizando ConfusionMatrixDisplay\n",
    "disp = ConfusionMatrixDisplay(confusion_matrix=conf_matrix, display_labels=gnb.classes_)\n",
    "disp.plot(cmap='Blues')\n",
    "plt.title('Matriz de Confusión - Gaussian Naive Bayes')\n",
    "plt.show()"
   ]
  },
  {
   "cell_type": "code",
   "execution_count": 38,
   "metadata": {},
   "outputs": [
    {
     "name": "stdout",
     "output_type": "stream",
     "text": [
      "Exactitud del modelo: 1.0\n",
      "\n",
      "Error de clasificación del modelo: 0.0\n",
      "\n",
      "Precisión del modelo: 1.0\n",
      "\n",
      "Índice de recuperación del modelo: 1.0\n",
      "\n",
      "Medida F1 del modelo: 1.0\n",
      "\n"
     ]
    }
   ],
   "source": [
    "# Calcular la exactitud del modelo\n",
    "accuracy = accuracy_score(y_test, y_pred)\n",
    "print(f'Exactitud del modelo: {accuracy}\\n')\n",
    "\n",
    "# Calcular el error de clasificación\n",
    "classification_error = 1 - accuracy\n",
    "print(f'Error de clasificación del modelo: {classification_error}\\n')\n",
    "\n",
    "# Calcular la precisión del modelo\n",
    "precision = precision_score(y_test, y_pred, average='weighted')\n",
    "print(f'Precisión del modelo: {precision}\\n')\n",
    "\n",
    "# Calcular el índice de recuperación del modelo\n",
    "recall = recall_score(y_test, y_pred, average='weighted')\n",
    "print(f'Índice de recuperación del modelo: {recall}\\n')\n",
    "\n",
    "# Calcular la medida F1 del modelo\n",
    "f1 = f1_score(y_test, y_pred, average='weighted')\n",
    "print(f'Medida F1 del modelo: {f1}\\n')\n",
    "\n"
   ]
  },
  {
   "cell_type": "markdown",
   "metadata": {},
   "source": [
    "Observando las mediciones del modelo gausiano, podemos ver que tomando una muestra del 70% par entrenar y 30% para testear, el modelo tuvo un desempeño perfect, teniendo una exactitud, precisión, recall y F1 de 1. El modelo tuvo un error de 0"
   ]
  },
  {
   "cell_type": "markdown",
   "metadata": {},
   "source": [
    "# KNN"
   ]
  },
  {
   "cell_type": "code",
   "execution_count": 39,
   "metadata": {},
   "outputs": [
    {
     "name": "stdout",
     "output_type": "stream",
     "text": [
      "Resultado para Y=[1 1 0 1 1] con K=1 es: C1\n",
      "Resultado para Y=[1 1 0 1 1] con K=3 es: C1\n",
      "Resultado para Y=[1 1 0 1 1] con K=1 es: C1\n",
      "Resultado para Y=[1 1 0 1 1] con K=5 es: C1\n",
      "Resultado para Y=[1 1 0 1 1] con K=1 es: C1\n",
      "Resultado para Y=[1 1 0 1 1] con K=3 es: C1\n",
      "Resultado para Y=[1 1 0 1 1] con K=1 es: C1\n",
      "Resultado para Y=[1 1 0 1 1] con K=5 es: C1\n",
      "Resultado para Y=[0 1 0 0 0] con K=1 es: C2\n",
      "Resultado para Y=[0 1 0 0 0] con K=3 es: C2\n",
      "Resultado para Y=[0 1 0 0 0] con K=1 es: C2\n",
      "Resultado para Y=[0 1 0 0 0] con K=5 es: C2\n",
      "Resultado para Y=[0 1 0 0 0] con K=1 es: C2\n",
      "Resultado para Y=[0 1 0 0 0] con K=3 es: C2\n",
      "Resultado para Y=[0 1 0 0 0] con K=1 es: C2\n",
      "Resultado para Y=[0 1 0 0 0] con K=5 es: C2\n"
     ]
    }
   ],
   "source": [
    "from collections import Counter\n",
    "import numpy as np\n",
    "\n",
    "# Datos de entrada\n",
    "X = np.array([\n",
    "    [1, 0, 1, 1, 0],\n",
    "    [1, 1, 0, 1, 0],\n",
    "    [0, 0, 1, 1, 0],\n",
    "    [0, 1, 0, 1, 0],\n",
    "    [1, 0, 1, 0, 1],\n",
    "    [0, 1, 1, 0, 0]\n",
    "])\n",
    "\n",
    "# Etiquetas de los grupos\n",
    "labels = np.array(['C1', 'C1', 'C2', 'C2', 'C1', 'C2'])\n",
    "\n",
    "# Función para calcular la distancia euclidiana\n",
    "def euclidean_distance(x1, x2):\n",
    "    return np.sqrt(np.sum((x1 - x2) ** 2))\n",
    "\n",
    "# Función k-NN\n",
    "def k_nearest_neighbors(X, y, query_point, k):\n",
    "    distances = [euclidean_distance(query_point, x) for x in X]\n",
    "    k_indices = np.argsort(distances)[:k]\n",
    "    k_nearest_labels = [y[i] for i in k_indices]\n",
    "    most_common = Counter(k_nearest_labels).most_common(1)\n",
    "    return most_common[0][0]\n",
    "\n",
    "# Ejemplos a clasificar\n",
    "queries = [\n",
    "    np.array([1, 1, 0, 1, 1]),\n",
    "    np.array([1, 1, 0, 1, 1]),\n",
    "    np.array([0, 1, 0, 0, 0]),\n",
    "    np.array([0, 1, 0, 0, 0])\n",
    "]\n",
    "\n",
    "# Realizar la clasificación con k-NN para cada ejemplo\n",
    "for i, query in enumerate(queries, start=1):\n",
    "    k_values = [1, 3, 1, 5]\n",
    "    for j, k in enumerate(k_values, start=1):\n",
    "        result = k_nearest_neighbors(X, labels, query, k)\n",
    "        print(f\"Resultado para Y={query} con K={k} es: {result}\")\n"
   ]
  },
  {
   "cell_type": "markdown",
   "metadata": {},
   "source": [
    "Para el primer ejemplo [1, 1, 0, 1, 1], sin importar el valor de k utilizado (1, 3 o 5), el algoritmo predijo que pertenece al grupo C1. Esto indica que los puntos más cercanos a este ejemplo pertenecen principalmente al grupo C1.\n",
    "\n",
    "Para el segundo ejemplo [0, 1, 0, 0, 0], nuevamente, independientemente del valor de k (1, 3 o 5), el algoritmo predijo consistentemente que pertenece al grupo C2. Esto sugiere que los puntos más cercanos a este ejemplo son predominantemente del grupo C2.\n",
    "\n",
    "Podemos concluir que los datos de cada cluster son consistentes y tienen una separación clara"
   ]
  },
  {
   "cell_type": "markdown",
   "metadata": {},
   "source": [
    "# Comparación de módelos"
   ]
  },
  {
   "cell_type": "code",
   "execution_count": 48,
   "metadata": {},
   "outputs": [
    {
     "name": "stdout",
     "output_type": "stream",
     "text": [
      "Información sobre el conjunto de datos German Credit:\n",
      "  Status of existing checking account  Duration in months Credit history Purpose  Credit amount Savings account/bonds Present employment since  Installment rate in percentage of disposable income Personal status and sex Other debtors / guarantors  Present residence since Property  Age Other installment plans Housing  Number of existing credits at this bank   Job  Number of people being liable to provide maintenance for Telephone Foreign worker  Credit risk\n",
      "0                                 A11                   6            A34     A43           1169                   A65                      A75                                                    4                     A93                       A101                        4     A121   67                    A143    A152                                        2  A173                                                         1      A192           A201            1\n",
      "1                                 A12                  48            A32     A43           5951                   A61                      A73                                                    2                     A92                       A101                        2     A121   22                    A143    A152                                        1  A173                                                         1      A191           A201            2\n",
      "2                                 A14                  12            A34     A46           2096                   A61                      A74                                                    2                     A93                       A101                        3     A121   49                    A143    A152                                        1  A172                                                         2      A191           A201            1\n",
      "3                                 A11                  42            A32     A42           7882                   A61                      A74                                                    2                     A93                       A103                        4     A122   45                    A143    A153                                        1  A173                                                         2      A191           A201            1\n",
      "4                                 A11                  24            A33     A40           4870                   A61                      A73                                                    3                     A93                       A101                        4     A124   53                    A143    A153                                        2  A173                                                         2      A191           A201            2\n",
      "(1000, 21)\n"
     ]
    }
   ],
   "source": [
    "\n",
    "# Descargar el conjunto de datos desde una URL (si no lo tienes localmente)\n",
    "url = \"https://archive.ics.uci.edu/ml/machine-learning-databases/statlog/german/german.data\"\n",
    "\n",
    "# Definir los nombres de las columnas para el dataset\n",
    "column_names = [\n",
    "    \"Status of existing checking account\", \"Duration in months\", \"Credit history\", \n",
    "    \"Purpose\", \"Credit amount\", \"Savings account/bonds\", \"Present employment since\", \n",
    "    \"Installment rate in percentage of disposable income\", \"Personal status and sex\", \n",
    "    \"Other debtors / guarantors\", \"Present residence since\", \"Property\", \"Age\", \n",
    "    \"Other installment plans\", \"Housing\", \"Number of existing credits at this bank\", \n",
    "    \"Job\", \"Number of people being liable to provide maintenance for\", \"Telephone\", \n",
    "    \"Foreign worker\", \"Credit risk\"\n",
    "]\n",
    "\n",
    "# Cargar el conjunto de datos en un DataFrame de pandas\n",
    "data = pd.read_csv(url, delimiter=' ', names=column_names)\n",
    "\n",
    "# Mostrar información básica del conjunto de datos\n",
    "print(\"Información sobre el conjunto de datos German Credit:\")\n",
    "print(data.head().to_string())  # Muestra las primeras filas del conjunto de datos\n",
    "print(data.shape)   # Muestra la forma (número de filas y columnas) del conjunto de datos\n"
   ]
  },
  {
   "cell_type": "code",
   "execution_count": 49,
   "metadata": {},
   "outputs": [],
   "source": [
    "# Naive bayes con validación cruzada\n",
    "\n",
    "X = data.drop('Credit risk', axis=1)  # Características\n",
    "y = data['Credit risk']  # Etiquetas\n",
    "\n",
    "# Convertir las variables categóricas a numéricas si es necesario\n",
    "label_encoder = LabelEncoder()\n",
    "for column in X.columns:\n",
    "    if X[column].dtype == 'object':\n",
    "        X[column] = label_encoder.fit_transform(X[column])"
   ]
  },
  {
   "cell_type": "markdown",
   "metadata": {},
   "source": [
    "### Naive Bayes"
   ]
  },
  {
   "cell_type": "code",
   "execution_count": 50,
   "metadata": {},
   "outputs": [
    {
     "name": "stdout",
     "output_type": "stream",
     "text": [
      "Puntajes de validación cruzada: [0.72 0.66 0.76 0.68 0.74 0.78 0.69 0.74 0.78 0.79]\n",
      "Puntuación media: 0.7340\n"
     ]
    }
   ],
   "source": [
    "# Inicializar el clasificador Naive Bayes Gaussiano\n",
    "naive_bayes = GaussianNB()\n",
    "\n",
    "# Realizar validación cruzada con tamaño 10 para evaluar el modelo\n",
    "scores = cross_val_score(naive_bayes, X, y, cv=10)\n",
    "\n",
    "# Mostrar los puntajes de la validación cruzada\n",
    "print(\"Puntajes de validación cruzada:\", scores)\n",
    "print(f\"Puntuación media: {scores.mean():.4f}\")"
   ]
  },
  {
   "cell_type": "markdown",
   "metadata": {},
   "source": [
    "### Árbol de Decisión"
   ]
  },
  {
   "cell_type": "code",
   "execution_count": 60,
   "metadata": {},
   "outputs": [
    {
     "name": "stdout",
     "output_type": "stream",
     "text": [
      "Puntajes de validación cruzada: [0.63 0.62 0.75 0.72 0.64 0.66 0.66 0.71 0.65 0.71]\n",
      "Puntuación media: 0.6750\n"
     ]
    }
   ],
   "source": [
    "# Inicializar el clasificador de Árbol de Decisión\n",
    "decision_tree = DecisionTreeClassifier(random_state=32)\n",
    "\n",
    "# Realizar validación cruzada para evaluar el modelo\n",
    "scores = cross_val_score(decision_tree, X, y, cv=10)\n",
    "\n",
    "# Mostrar los puntajes de la validación cruzada\n",
    "print(\"Puntajes de validación cruzada:\", scores)\n",
    "print(f\"Puntuación media: {scores.mean():.4f}\")"
   ]
  },
  {
   "cell_type": "markdown",
   "metadata": {},
   "source": [
    "### Comparación"
   ]
  },
  {
   "cell_type": "markdown",
   "metadata": {},
   "source": [
    "Para este dataset, el rendimiento de Naive Bayes fue mayor al del Árbol de decisión. Esto puede deberse a la naturaleza de los datos. Naive Bayes supone la independencia condicional entre los atributos. lo que para este dataset funcina. Los arboles de decisión pueden tener dificultades cuando el dataset tien ruido o outliers. Esto puede ser un factor determinante en el ejercicio.    "
   ]
  }
 ],
 "metadata": {
  "kernelspec": {
   "display_name": "Python 3",
   "language": "python",
   "name": "python3"
  },
  "language_info": {
   "codemirror_mode": {
    "name": "ipython",
    "version": 3
   },
   "file_extension": ".py",
   "mimetype": "text/x-python",
   "name": "python",
   "nbconvert_exporter": "python",
   "pygments_lexer": "ipython3",
   "version": "3.10.5"
  }
 },
 "nbformat": 4,
 "nbformat_minor": 2
}
