{
  "cells": [
    {
      "cell_type": "markdown",
      "metadata": {
        "colab_type": "text",
        "id": "view-in-github"
      },
      "source": [
        "<a href=\"https://colab.research.google.com/github/acmoral/ProyectoMineria/blob/master/weather_data_analisis_exploratorio.ipynb\" target=\"_parent\"><img src=\"https://colab.research.google.com/assets/colab-badge.svg\" alt=\"Open In Colab\"/></a>"
      ]
    },
    {
      "cell_type": "code",
      "execution_count": 1,
      "metadata": {
        "colab": {
          "base_uri": "https://localhost:8080/"
        },
        "id": "e5sDqnc8Tg0Y",
        "outputId": "c666e0e7-8327-4137-c574-bcd165aad7a2"
      },
      "outputs": [],
      "source": [
        "import pandas as pd\n",
        "\n",
        "# from google.colab import drive\n",
        "# drive.mount('/content/drive')"
      ]
    },
    {
      "cell_type": "code",
      "execution_count": 2,
      "metadata": {
        "colab": {
          "base_uri": "https://localhost:8080/"
        },
        "id": "rsR1WhKhU36S",
        "outputId": "59174483-4649-40a9-cf9b-acb4f1d6ecff"
      },
      "outputs": [],
      "source": [
        "#%cd drive/\n",
        "#%cd drive/Shareddrives/Minería\\ de\\ datos\\ 2023/\n"
      ]
    },
    {
      "cell_type": "code",
      "execution_count": null,
      "metadata": {
        "colab": {
          "base_uri": "https://localhost:8080/"
        },
        "id": "0Hd2nBXFVN3M",
        "outputId": "702b13d8-ef26-41de-a245-1563b09a5ea2"
      },
      "outputs": [
        {
          "name": "stdout",
          "output_type": "stream",
          "text": [
            " Colombianos_registrados_en_el_exterior.csv\n",
            "'Descripción Conjunto de Datos.gdoc'\n",
            "'Descripcion conjuto de datos Lluvias Australia.gdoc'\n",
            " weatherAUS.csv\n",
            " weather_data_analisis_exploratorio.ipynb\n",
            " weather_data_basic_exploration.ipynb\n"
          ]
        }
      ],
      "source": [
        "%ls"
      ]
    },
    {
      "cell_type": "code",
      "execution_count": 3,
      "metadata": {
        "id": "00MRHVJVU0zf"
      },
      "outputs": [],
      "source": [
        "weather_df = pd.read_csv('../data/weatherAUS.csv')"
      ]
    },
    {
      "cell_type": "markdown",
      "metadata": {
        "id": "ZLBUAuFMTg0b"
      },
      "source": [
        "La idea seria en cada sección añadir una descripción de manera que se analisen los datos que se obtengan."
      ]
    },
    {
      "cell_type": "markdown",
      "metadata": {
        "id": "5qbNRk8zTg0c"
      },
      "source": [
        "# Estadistica uni variada"
      ]
    },
    {
      "cell_type": "markdown",
      "metadata": {
        "id": "ZfEmDa0BTg0d"
      },
      "source": [
        "## 1. visualizar el dataset\n"
      ]
    },
    {
      "cell_type": "code",
      "execution_count": null,
      "metadata": {
        "id": "GkqtaPVtTg0d"
      },
      "outputs": [],
      "source": []
    },
    {
      "cell_type": "markdown",
      "metadata": {
        "id": "vsDr6wuaTg0d"
      },
      "source": [
        "## 2. ver frecuencia de valores de atributos categoricos y/o"
      ]
    },
    {
      "cell_type": "code",
      "execution_count": null,
      "metadata": {
        "id": "0pT2n9KFTg0e"
      },
      "outputs": [],
      "source": []
    },
    {
      "cell_type": "markdown",
      "metadata": {
        "id": "ixxwRHotTg0e"
      },
      "source": [
        "## 3. ver frecuencias porcentuales de valores de atributos categoricos y/o finitos"
      ]
    },
    {
      "cell_type": "code",
      "execution_count": null,
      "metadata": {
        "id": "jTJTjuU4Tg0e"
      },
      "outputs": [],
      "source": []
    },
    {
      "cell_type": "markdown",
      "metadata": {
        "id": "LwOPf_LBTg0f"
      },
      "source": [
        "## 4. agrupar datos respecto a variable independiente ( si llueve mañana ) y ver medidas de centralidad\n"
      ]
    },
    {
      "cell_type": "code",
      "execution_count": null,
      "metadata": {
        "id": "DUMinjiGTg0f"
      },
      "outputs": [],
      "source": []
    },
    {
      "cell_type": "markdown",
      "metadata": {
        "id": "8pLLWd9kTg0f"
      },
      "source": [
        "### 4.a media\n"
      ]
    },
    {
      "cell_type": "code",
      "execution_count": null,
      "metadata": {
        "id": "Y20pJusuTg0f"
      },
      "outputs": [],
      "source": []
    },
    {
      "cell_type": "markdown",
      "metadata": {
        "id": "PC0vffU7Tg0f"
      },
      "source": [
        "### 4.b mediana\n"
      ]
    },
    {
      "cell_type": "code",
      "execution_count": null,
      "metadata": {
        "id": "5YlCsP5ITg0f"
      },
      "outputs": [],
      "source": []
    },
    {
      "cell_type": "markdown",
      "metadata": {
        "id": "mnKu_-TkTg0f"
      },
      "source": [
        "### 4.c moda"
      ]
    },
    {
      "cell_type": "code",
      "execution_count": null,
      "metadata": {
        "id": "VUSp7-fITg0g"
      },
      "outputs": [],
      "source": []
    },
    {
      "cell_type": "markdown",
      "metadata": {
        "id": "zS1lnz0oTg0g"
      },
      "source": [
        "## 5. ver cuantiles de variables continuas."
      ]
    },
    {
      "cell_type": "markdown",
      "metadata": {
        "id": "iIhYdpszTg0g"
      },
      "source": [
        "## 6. medidas de dispersión\n"
      ]
    },
    {
      "cell_type": "code",
      "execution_count": null,
      "metadata": {
        "id": "p9sZC6Y3Tg0g"
      },
      "outputs": [],
      "source": []
    },
    {
      "cell_type": "markdown",
      "metadata": {
        "id": "ZwNLkA8ATg0g"
      },
      "source": [
        "### 6.a ver el rango de las variables\n"
      ]
    },
    {
      "cell_type": "code",
      "execution_count": null,
      "metadata": {
        "id": "LixWyK56Tg0g"
      },
      "outputs": [],
      "source": []
    },
    {
      "cell_type": "markdown",
      "metadata": {
        "id": "eHp8Do13Tg0g"
      },
      "source": [
        "### 6.b desviación estandar de variables continuas\n"
      ]
    },
    {
      "cell_type": "code",
      "execution_count": null,
      "metadata": {
        "id": "Q5ThG2G2Tg0g"
      },
      "outputs": [],
      "source": []
    },
    {
      "cell_type": "markdown",
      "metadata": {
        "id": "AL3GRhhcTg0g"
      },
      "source": [
        "### 6.c desviación media absoluta de variables continuas"
      ]
    },
    {
      "cell_type": "code",
      "execution_count": null,
      "metadata": {
        "id": "34H50aAaTg0h"
      },
      "outputs": [],
      "source": []
    },
    {
      "cell_type": "markdown",
      "metadata": {
        "id": "EJr3pNBgTg0h"
      },
      "source": [
        "# Estadisticas multivariadas\n"
      ]
    },
    {
      "cell_type": "markdown",
      "metadata": {
        "id": "m-MfCvgsTg0h"
      },
      "source": [
        "## 7. ver covarianza de variables continuas ( matriz de covarianzas)"
      ]
    },
    {
      "cell_type": "markdown",
      "metadata": {
        "id": "H1LZNdnRTg0h"
      },
      "source": [
        "## 8. correlacion lineal o coefiente de correlación de Pearson"
      ]
    },
    {
      "cell_type": "markdown",
      "metadata": {
        "id": "BVI4T0cyTg0h"
      },
      "source": [
        "# Gráficos"
      ]
    },
    {
      "cell_type": "markdown",
      "metadata": {
        "id": "GkSXZmjcTg0h"
      },
      "source": [
        "## 9. hacer histogramas de las variables, pueden ser todas, o tal vez las mas relevantes."
      ]
    },
    {
      "cell_type": "markdown",
      "metadata": {
        "id": "6w7kpoTWTg0h"
      },
      "source": []
    },
    {
      "cell_type": "markdown",
      "metadata": {
        "id": "FnHtFnEsTg0h"
      },
      "source": [
        "## 10. hacer graficos de estimacion de densidad"
      ]
    },
    {
      "cell_type": "markdown",
      "metadata": {
        "id": "FJqrw6jqTg0h"
      },
      "source": [
        "# 11. Diagramas de caja"
      ]
    },
    {
      "cell_type": "markdown",
      "metadata": {
        "id": "7QCq3rd4Tg0h"
      },
      "source": [
        "## 12. Diagramas de dispersión"
      ]
    },
    {
      "cell_type": "markdown",
      "metadata": {
        "id": "j0S-xeRjTg0h"
      },
      "source": [
        "## 13. Coordenadas Paralelas"
      ]
    },
    {
      "cell_type": "markdown",
      "metadata": {
        "id": "k3L6sMQXTg0i"
      },
      "source": [
        "# 14. Diagramas de estrella"
      ]
    },
    {
      "cell_type": "markdown",
      "metadata": {
        "id": "kwB-eI8NTg0i"
      },
      "source": [
        "## 15. Caras de Chernoff"
      ]
    },
    {
      "cell_type": "markdown",
      "metadata": {
        "id": "OSfQykFwTg0i"
      },
      "source": []
    }
  ],
  "metadata": {
    "colab": {
      "include_colab_link": true,
      "provenance": []
    },
    "kernelspec": {
      "display_name": "Python 3",
      "name": "python3"
    },
    "language_info": {
      "codemirror_mode": {
        "name": "ipython",
        "version": 3
      },
      "file_extension": ".py",
      "mimetype": "text/x-python",
      "name": "python",
      "nbconvert_exporter": "python",
      "pygments_lexer": "ipython3",
      "version": "3.10.5"
    },
    "orig_nbformat": 4
  },
  "nbformat": 4,
  "nbformat_minor": 0
}
