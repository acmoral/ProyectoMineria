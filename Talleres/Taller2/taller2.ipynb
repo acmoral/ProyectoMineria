{
 "cells": [
  {
   "cell_type": "code",
   "execution_count": null,
   "metadata": {},
   "outputs": [],
   "source": [
    "# Librerias \n",
    "import numpy as np\n",
    "import pandas as pd\n",
    "# import pyfpgrowth\n",
    "# import time\n",
    "# from efficient_apriori import apriori\n",
    "# from sklearn import preprocessing\n",
    "# from scipy import stats"
   ]
  },
  {
   "cell_type": "markdown",
   "metadata": {},
   "source": [
    "## 1. \n",
    "Por cada un de las siguientes preguntas, proveer un ejemplo de una regla de asociación del dominio de “market basket” que\n",
    "satisface las siguientes condiciones. También, describir si las reglas son interesantes (subjetivamente).\n",
    "\n",
    "(a) Una regla que que tiene alto soporte y alta confianza\n",
    "\n",
    "(b) Una regla que tiene razonablemente alto soporte pero baja confianza\n",
    "\n",
    "(c) Una regla que tiene bajo soporte y baja confianza\n",
    "\n",
    "(d) Una regla que tiene bajo soporte y alta confianza\n"
   ]
  },
  {
   "cell_type": "markdown",
   "metadata": {},
   "source": [
    "## 2. \n",
    "¿Por qué el proceso de descubrimiento de reglas de asociación es relativamente simple comparado con la generación de\n",
    "grandes conjuntos de ítems en bases de datos transaccionales?"
   ]
  },
  {
   "cell_type": "markdown",
   "metadata": {},
   "source": [
    "## 3. \n",
    "Considere el siguiente conjunto de datos:\n",
    "\n",
    "**insertar la tabla despues**\n",
    "\n",
    "(a) ¿cuál es el número máximo de reglas de asociación que se pueden generar? (incluyendo reglas con soporte 0)\n",
    "\n",
    "(b) ¿cuál es el tamaño máximo de los conjuntos de items frecuentes que se pueden extraer (asumir el umbral de minsoporte\n",
    "> 0)?\n",
    "\n",
    "(c) Escribir una regla que contenga 3 ítems que se genere deeste conjunto de datos.\n",
    "\n",
    "(d) Encontrat un conjunto de items (de tamaño mayor a 2) con el valor de soporte máximo.\n",
    "\n",
    "(e) Encontrar un par de ítems (a y b) tal que las reglas a → b y b → a tengan la misma confianza.\n"
   ]
  },
  {
   "cell_type": "markdown",
   "metadata": {},
   "source": [
    "## 4. \n",
    "Dado la siguiente base de datos X: \n",
    "\n",
    "**insertar tabla**\n",
    "\n",
    "Usando valores de umbral de soporte = 25 % y confianza = 60 %, encuentre:\n",
    "\n",
    "a) Todos los conjuntos de ítems en la base de datos X\n",
    "\n",
    "b) Reglas de asociación fuertes para la base de datos X\n",
    "\n",
    "c) Analice las asociaciones engañosas para el conjunto de reglas obtenido en el numeral anterior.\n"
   ]
  },
  {
   "cell_type": "markdown",
   "metadata": {},
   "source": [
    "## 5. \n",
    "El algoritmo Apriori usa estrategías de generación y conteo para derivar conjuntos de items frecuentes. Conjuntos de\n",
    "item de tamaño k + 1 son creados de conjuntos de items de tamaño k. Un conjunto candidato es eliminado si uno de\n",
    "sus subconjuntos no es frecuente en la fase de poda. Supongamos que el algoritmo Apriori es aplicado a los datos de la\n",
    "siguiente tabla con un soporte mínimo de 30% (ejercicio realizado en clase).\n",
    "\n",
    "(a) Dibujar el lattice de los conjuntos de items y etiquetar cada nodo con las siguientes letras:\n",
    "\n",
    "i. N: si el conjunto no es considerado candidato\n",
    "\n",
    "ii. F: si el conjunto candidato es frecuente\n",
    "\n",
    "iii. I: si el conjunto candidato no es frecuente\n",
    "\n",
    "(b) ¿Cuál es el porcentaje de conjuntos de items frecuente?\n",
    "\n",
    "(c) ¿Cuál es el radio de poda en este conjunto de datos? (El radio de poda es definido como el porcentaje de conjuntos de\n",
    "items no considerados a ser candidatos, ya sea por que no son generados durante la etapa de generación de candidatos,\n",
    "o por que son podados en la etapa de poda).\n",
    "\n",
    "(d) ¿Cuál es la rata de falsa alarma? (porcentaje de los conjuntos de items candidatos que son encontrados NO frecuentes\n",
    "después de calcular el soporte).\n"
   ]
  },
  {
   "cell_type": "markdown",
   "metadata": {},
   "source": [
    "## 6. \n",
    "Dada la siguiente base de datos transaccional Y:\n",
    "\n",
    "**insertar tabla**\n",
    "\n",
    "Usar Apriori y FP-Growth para encontrar los conjuntos de ítems frecuentes con mínimo soporte de 2. Tratar con varios\n",
    "valores de confianza. Ordenar los conjuntos resultados y analizar resultados de cada algoritmo. Comparar eficiencia de los\n",
    "dos procesos de mineria. Repetir con soporte de 3 y comparar los resultados."
   ]
  },
  {
   "cell_type": "markdown",
   "metadata": {},
   "source": [
    "## 7.\n",
    "Usando el conjunto de datos del punto 5,\n",
    "\n",
    "(a) realizar la tabla de contingencia para las siguientes reglas: b→c , a→d , b→d , e→c , c→a\n",
    "\n",
    "(b) usar las tablas de contigencia del punto anterior para computar y “realizar un ranking” de las reglas usando:\n",
    "\n",
    "i. soporte\n",
    "\n",
    "ii. confianza\n",
    "\n",
    "iii. lift"
   ]
  },
  {
   "cell_type": "markdown",
   "metadata": {},
   "source": [
    "## 8. \n",
    "Importar el conjunto de datos marketBasquet.csv. Extraer reglas de asociación utilizando diferentes valores mínimos de\n",
    "confíanza. Analice los resultados. Reporte los itemsets frecuentes con sus respectivos valores de soporte. Revise los valores\n",
    "de soporte reportados por el operador de itemsets frecuentes. Verifíquelos manualmente. ¿Qué problema se presenta?\n",
    "Extraiga reglas de asociación utilizando diferentes valores mínimos de confíanza. Analice los resultados. Reporte los\n",
    "itemsets frecuentes con sus respectivos valores de soporte. Analice los resultados y discuta las diferencias con el esquema\n",
    "que no posee un filtro de atributos.\n"
   ]
  },
  {
   "cell_type": "markdown",
   "metadata": {},
   "source": [
    "## 9. \n",
    "Importe el conjunto de datos credit-german.csv (repositorio de machinelearning). Discretice los atributos numéricos en\n",
    "máximo 5 bins de igual tamaño. Aplique el algoritmo de reglas de asociación a este conjunto. Interprete las reglas producidas.\n",
    "Varíe los valores de soporte y de confianza ¿Qué sucede? Interprete las reglas producidas y escoja las que en su concepto\n",
    "son las más interesantes para el problema (justifíque)."
   ]
  }
 ],
 "metadata": {
  "kernelspec": {
   "display_name": "mlcourse",
   "language": "python",
   "name": "python3"
  },
  "language_info": {
   "name": "python",
   "version": "3.11.0"
  },
  "orig_nbformat": 4
 },
 "nbformat": 4,
 "nbformat_minor": 2
}
